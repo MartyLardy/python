{
 "cells": [
  {
   "cell_type": "markdown",
   "id": "2db3cd4b-2fca-49d2-af31-599f6fb343f5",
   "metadata": {},
   "source": [
    "# Natural Language Toolkit NLTK"
   ]
  },
  {
   "cell_type": "markdown",
   "id": "a1109aed-2ea4-4644-8381-3747a9d6b9fb",
   "metadata": {},
   "source": [
    "NLTK is a leading platform for building Python programs to work with human language data. It provides easy to use interfaces to over 50 copora and lexical resources such as WordNet , along with a suite of text processing libraries for classification, tokenization, steeming, tagging  , parsing, and semantic reasoning, wrappers for industrial-strength NLP libraries, and an active discussion form. "
   ]
  },
  {
   "cell_type": "markdown",
   "id": "e3668238-328f-4b14-b92d-97e5b8a856f2",
   "metadata": {},
   "source": [
    "### Installation\n",
    "!pip install nltk"
   ]
  },
  {
   "cell_type": "markdown",
   "id": "bc7f2e39-04c6-4db1-b549-fa8324a29a07",
   "metadata": {},
   "source": [
    "## NLTK data installation\n"
   ]
  },
  {
   "cell_type": "markdown",
   "id": "570065f1-2942-46ee-b861-64cbb62b2d16",
   "metadata": {},
   "source": [
    "NLTK comes with many corpora, toy grammars, trained models, etc. A complete list is posted at: http://nltk.org/nltk_data/<br> \n",
    "\n",
    "go into a terminal:<br>\n",
    "type: python<br>\n",
    "import nltk<br>\n",
    "nltk.download()<br>\n",
    "\n",
    "from nltk.book import *<br>\n",
    "\n",
    "https://www.nltk.org/book/ch01.html#fig-nltk-downloader"
   ]
  },
  {
   "cell_type": "code",
   "execution_count": null,
   "id": "3540e099-6f93-4c1a-9488-ee3c3accebc6",
   "metadata": {},
   "outputs": [],
   "source": []
  }
 ],
 "metadata": {
  "kernelspec": {
   "display_name": "Python 3",
   "language": "python",
   "name": "python3"
  },
  "language_info": {
   "codemirror_mode": {
    "name": "ipython",
    "version": 3
   },
   "file_extension": ".py",
   "mimetype": "text/x-python",
   "name": "python",
   "nbconvert_exporter": "python",
   "pygments_lexer": "ipython3",
   "version": "3.8.8"
  }
 },
 "nbformat": 4,
 "nbformat_minor": 5
}
