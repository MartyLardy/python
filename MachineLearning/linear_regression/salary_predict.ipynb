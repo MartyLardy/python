{
 "cells": [
  {
   "cell_type": "code",
   "execution_count": 1,
   "id": "78549d8d-1393-4a07-ab0a-7e9ae4a1c028",
   "metadata": {},
   "outputs": [],
   "source": [
    "import joblib\n",
    "salary = joblib.load(\"salary_model.pkl\")"
   ]
  },
  {
   "cell_type": "code",
   "execution_count": 2,
   "id": "24d77f86-fc83-464c-b70d-2bc603c235cd",
   "metadata": {},
   "outputs": [
    {
     "data": {
      "text/plain": [
       "array([53205.96797671])"
      ]
     },
     "execution_count": 2,
     "metadata": {},
     "output_type": "execute_result"
    }
   ],
   "source": [
    "salary.predict([[2,9,6]])"
   ]
  },
  {
   "cell_type": "code",
   "execution_count": 3,
   "id": "f729002d-fb76-40f5-8b55-461a77364f6c",
   "metadata": {},
   "outputs": [
    {
     "data": {
      "text/plain": [
       "array([76069.1411936])"
      ]
     },
     "execution_count": 3,
     "metadata": {},
     "output_type": "execute_result"
    }
   ],
   "source": [
    "salary.predict([[10,8,7]])"
   ]
  },
  {
   "cell_type": "code",
   "execution_count": 21,
   "id": "110d12f4-1c87-4229-a2c1-ba60ef8927cf",
   "metadata": {},
   "outputs": [
    {
     "name": "stdin",
     "output_type": "stream",
     "text": [
      "Years of Experience 4\n",
      "test score from 0 to 10 5\n",
      "interview score from 1 to 10 6\n"
     ]
    },
    {
     "name": "stdout",
     "output_type": "stream",
     "text": [
      "\n",
      "Your salary might be: $[51449.05385735]\n"
     ]
    }
   ],
   "source": [
    "experience = int(input(\"Years of Experience\"))\n",
    "test_score = float(input(\"test score from 0 to 10\"))\n",
    "interview_score = float(input(\"interview score from 1 to 10\"))\n",
    "\n",
    "print(f\"\\nYour salary might be: ${salary.predict([[experience, test_score, interview_score]])}\")"
   ]
  },
  {
   "cell_type": "code",
   "execution_count": null,
   "id": "e95b44ae-774a-4dc8-8e9f-5fd1db1fd168",
   "metadata": {},
   "outputs": [],
   "source": []
  }
 ],
 "metadata": {
  "kernelspec": {
   "display_name": "Python 3 (ipykernel)",
   "language": "python",
   "name": "python3"
  },
  "language_info": {
   "codemirror_mode": {
    "name": "ipython",
    "version": 3
   },
   "file_extension": ".py",
   "mimetype": "text/x-python",
   "name": "python",
   "nbconvert_exporter": "python",
   "pygments_lexer": "ipython3",
   "version": "3.9.7"
  }
 },
 "nbformat": 4,
 "nbformat_minor": 5
}
