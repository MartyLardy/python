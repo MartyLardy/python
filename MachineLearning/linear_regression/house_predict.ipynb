{
 "cells": [
  {
   "cell_type": "code",
   "execution_count": 1,
   "id": "2cb620a0-686b-4183-a1ac-7728879b66ce",
   "metadata": {},
   "outputs": [],
   "source": [
    "import joblib\n",
    "\n",
    "file = \"house_predict.pkl\"\n",
    "house = joblib.load(file)"
   ]
  },
  {
   "cell_type": "code",
   "execution_count": 2,
   "id": "83d0a74a-6541-4518-8247-2bb2b078ebe9",
   "metadata": {},
   "outputs": [
    {
     "data": {
      "text/plain": [
       "array([756664.85412843])"
      ]
     },
     "execution_count": 2,
     "metadata": {},
     "output_type": "execute_result"
    }
   ],
   "source": [
    "house.predict([[4000,4,2]])"
   ]
  },
  {
   "cell_type": "code",
   "execution_count": 5,
   "id": "1ce3e866-2af9-4eae-a033-c9590edb8b32",
   "metadata": {},
   "outputs": [
    {
     "name": "stdin",
     "output_type": "stream",
     "text": [
      "enter sq feet: 6000\n",
      "enter number of bath: 5\n",
      "how old is the houes: 3\n"
     ]
    },
    {
     "name": "stdout",
     "output_type": "stream",
     "text": [
      "the house is worth: $[1000946.90018201]\n"
     ]
    }
   ],
   "source": [
    "sq_feet = int(input(\"enter sq feet:\"))\n",
    "bathroom = float(input(\"enter number of bath:\"))\n",
    "year_of_house = int(input(\"how old is the houes:\"))\n",
    "\n",
    "print(f\"the house is worth: ${house.predict([[sq_feet, bathroom, year_of_house]])}\")"
   ]
  },
  {
   "cell_type": "code",
   "execution_count": null,
   "id": "1e47e299-d444-4074-9bc4-23eab98c88a5",
   "metadata": {},
   "outputs": [],
   "source": []
  }
 ],
 "metadata": {
  "kernelspec": {
   "display_name": "Python 3 (ipykernel)",
   "language": "python",
   "name": "python3"
  },
  "language_info": {
   "codemirror_mode": {
    "name": "ipython",
    "version": 3
   },
   "file_extension": ".py",
   "mimetype": "text/x-python",
   "name": "python",
   "nbconvert_exporter": "python",
   "pygments_lexer": "ipython3",
   "version": "3.9.7"
  }
 },
 "nbformat": 4,
 "nbformat_minor": 5
}
