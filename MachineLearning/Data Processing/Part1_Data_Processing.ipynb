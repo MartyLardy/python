{
 "cells": [
  {
   "cell_type": "markdown",
   "id": "8a72a443",
   "metadata": {},
   "source": [
    "# Part 1 - Data Processing\n"
   ]
  },
  {
   "cell_type": "markdown",
   "id": "7ccc2770",
   "metadata": {},
   "source": [
    "## Data Processing is the foundation to any Machine Learning Model"
   ]
  },
  {
   "cell_type": "markdown",
   "id": "d87c5506",
   "metadata": {},
   "source": [
    "<ul>\n",
    "    <li> Independent Variables (attributes)\n",
    "    <li> Dependent Variables (attributes)\n",
    "</ul>"
   ]
  },
  {
   "cell_type": "code",
   "execution_count": null,
   "id": "accc8d89",
   "metadata": {},
   "outputs": [],
   "source": []
  }
 ],
 "metadata": {
  "kernelspec": {
   "display_name": "Python 3 (ipykernel)",
   "language": "python",
   "name": "python3"
  },
  "language_info": {
   "codemirror_mode": {
    "name": "ipython",
    "version": 3
   },
   "file_extension": ".py",
   "mimetype": "text/x-python",
   "name": "python",
   "nbconvert_exporter": "python",
   "pygments_lexer": "ipython3",
   "version": "3.10.0"
  }
 },
 "nbformat": 4,
 "nbformat_minor": 5
}
