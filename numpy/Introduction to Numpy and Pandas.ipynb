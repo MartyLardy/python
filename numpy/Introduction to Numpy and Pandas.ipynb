{
  "cells": [
    {
      "cell_type": "markdown",
      "metadata": {
        "id": "cRwoxU_DJ-7v"
      },
      "source": [
        "# Module 2: Introduction to Numpy and Pandas\n",
        "\n",
        "The following tutorial contains examples of using the numpy and pandas library modules. The notebook can be downloaded from http://www.cse.msu.edu/~ptan/dmbook/tutorials/tutorial2/tutorial2.ipynb. Read the step-by-step instructions below carefully. To execute the code, click on the cell and press the SHIFT-ENTER keys simultaneously."
      ]
    },
    {
      "cell_type": "markdown",
      "metadata": {
        "id": "zbw33L-sJ-7z"
      },
      "source": [
        "## 2.1 Introduction to Numpy\n",
        "\n",
        "Numpy, which stands for numerical Python, is a Python library package to support numerical computations. The basic data structure in numpy is a multi-dimensional array object called ndarray. Numpy provides a suite of functions that can efficiently manipulate elements of the ndarray. \n",
        "\n",
        "### 2.1.1 Creating ndarray\n",
        "\n",
        "An ndarray can be created from a list or tuple object."
      ]
    },
    {
      "cell_type": "code",
      "execution_count": 1,
      "metadata": {
        "colab": {
          "base_uri": "https://localhost:8080/"
        },
        "id": "_YESHVBwJ-70",
        "outputId": "ec10f893-a49a-440b-ec97-7ae4445db2ce"
      },
      "outputs": [
        {
          "name": "stdout",
          "output_type": "stream",
          "text": [
            "[1. 2. 3. 4. 5.]\n",
            "#Dimensions = 1\n",
            "Dimension = (5,)\n",
            "Size = 5\n",
            "Array type = float64\n",
            "[[1 2]\n",
            " [3 4]\n",
            " [5 6]\n",
            " [7 8]]\n",
            "#Dimensions = 2\n",
            "Dimension = (4, 2)\n",
            "Size = 8\n",
            "Array type = int64\n",
            "[['1' 'a' '3.0']\n",
            " ['2' 'b' '3.5']]\n",
            "#Dimensions = 2\n",
            "Dimension = (2, 3)\n",
            "Size = 6\n"
          ]
        }
      ],
      "source": [
        "import numpy as np\n",
        "\n",
        "oneDim = np.array([1.0,2,3,4,5])   # a 1-dimensional array (vector)\n",
        "print(oneDim)\n",
        "print(\"#Dimensions =\", oneDim.ndim)\n",
        "print(\"Dimension =\", oneDim.shape)\n",
        "print(\"Size =\", oneDim.size)\n",
        "print(\"Array type =\", oneDim.dtype)\n",
        "\n",
        "twoDim = np.array([[1,2],[3,4],[5,6],[7,8]])  # a two-dimensional array (matrix)\n",
        "print(twoDim)\n",
        "print(\"#Dimensions =\", twoDim.ndim)\n",
        "print(\"Dimension =\", twoDim.shape)\n",
        "print(\"Size =\", twoDim.size)\n",
        "print(\"Array type =\", twoDim.dtype)\n",
        "\n",
        "arrFromTuple = np.array([(1,'a',3.0),(2,'b',3.5)])  # create ndarray from tuple\n",
        "print(arrFromTuple)\n",
        "print(\"#Dimensions =\", arrFromTuple.ndim)\n",
        "print(\"Dimension =\", arrFromTuple.shape)\n",
        "print(\"Size =\", arrFromTuple.size)"
      ]
    },
    {
      "cell_type": "markdown",
      "metadata": {
        "id": "HsHIahY2J-71"
      },
      "source": [
        "There are several built-in functions in numpy that can be used to create ndarrays"
      ]
    },
    {
      "cell_type": "code",
      "execution_count": 2,
      "metadata": {
        "colab": {
          "base_uri": "https://localhost:8080/"
        },
        "id": "NTVWZ25dJ-72",
        "outputId": "3c8be990-b403-4661-bde8-4390cef58513"
      },
      "outputs": [
        {
          "name": "stdout",
          "output_type": "stream",
          "text": [
            "[0.45773945 0.91367663 0.97759686 0.41483504 0.17053901]\n",
            "[0.46901539 0.69955201 0.20851247 1.14129497 0.46666172]\n",
            "[-10  -8  -6  -4  -2   0   2   4   6   8]\n",
            "[[ 0  1  2  3]\n",
            " [ 4  5  6  7]\n",
            " [ 8  9 10 11]]\n",
            "[0.         0.11111111 0.22222222 0.33333333 0.44444444 0.55555556\n",
            " 0.66666667 0.77777778 0.88888889 1.        ]\n",
            "[1.e-03 1.e-02 1.e-01 1.e+00 1.e+01 1.e+02 1.e+03]\n"
          ]
        }
      ],
      "source": [
        "print(np.random.rand(5))      # random numbers from a uniform distribution between [0,1]\n",
        "print(np.random.randn(5))     # random numbers from a normal distribution\n",
        "print(np.arange(-10,10,2))    # similar to range, but returns ndarray instead of list\n",
        "print(np.arange(12).reshape(3,4))  # reshape to a matrix\n",
        "print(np.linspace(0,1,10))    # split interval [0,1] into 10 equally separated values\n",
        "print(np.logspace(-3,3,7))    # create ndarray with values from 10^-3 to 10^3"
      ]
    },
    {
      "cell_type": "code",
      "execution_count": 3,
      "metadata": {
        "colab": {
          "base_uri": "https://localhost:8080/"
        },
        "id": "X6xHfFTzJ-72",
        "outputId": "8e0be476-5190-4984-9ab0-799403fdce69"
      },
      "outputs": [
        {
          "name": "stdout",
          "output_type": "stream",
          "text": [
            "[[0. 0. 0.]\n",
            " [0. 0. 0.]]\n",
            "[[1. 1.]\n",
            " [1. 1.]\n",
            " [1. 1.]]\n",
            "[[1. 0. 0.]\n",
            " [0. 1. 0.]\n",
            " [0. 0. 1.]]\n"
          ]
        }
      ],
      "source": [
        "print(np.zeros((2,3)))        # a matrix of zeros\n",
        "print(np.ones((3,2)))         # a matrix of ones\n",
        "print(np.eye(3))              # a 3 x 3 identity matrix"
      ]
    },
    {
      "cell_type": "markdown",
      "metadata": {
        "id": "csN-WPy1J-73"
      },
      "source": [
        "## 2.1.2 Element-wise Operations\n",
        "\n",
        "You can apply standard operators such as addition and multiplication on each element of the ndarray."
      ]
    },
    {
      "cell_type": "code",
      "execution_count": 4,
      "metadata": {
        "colab": {
          "base_uri": "https://localhost:8080/"
        },
        "id": "sADHQiGjJ-74",
        "outputId": "60aadb38-8a03-4e4a-bfc3-f1bc6e76ad7e"
      },
      "outputs": [
        {
          "name": "stdout",
          "output_type": "stream",
          "text": [
            "[2 3 4 5 6]\n",
            "[0 1 2 3 4]\n",
            "[ 2  4  6  8 10]\n",
            "[0 1 1 2 2]\n",
            "[ 1  4  9 16 25]\n",
            "[1 0 1 0 1]\n",
            "[1.         0.5        0.33333333 0.25       0.2       ]\n"
          ]
        }
      ],
      "source": [
        "x = np.array([1,2,3,4,5])\n",
        "\n",
        "\n",
        "print(x + 1)      # addition\n",
        "print(x - 1)      # subtraction\n",
        "print(x * 2)      # multiplication\n",
        "print(x // 2)     # integer division\n",
        "print(x ** 2)     # square\n",
        "print(x % 2)      # modulo  \n",
        "print(1 / x)      # division"
      ]
    },
    {
      "cell_type": "code",
      "execution_count": 5,
      "metadata": {
        "colab": {
          "base_uri": "https://localhost:8080/"
        },
        "id": "ljVdq9SMJ-74",
        "outputId": "9fbbcfd7-be89-44c0-937a-aa52e2b762fd"
      },
      "outputs": [
        {
          "name": "stdout",
          "output_type": "stream",
          "text": [
            "[ 3  6  9 12 15]\n",
            "[1 2 3 4 5]\n",
            "[ 2  8 18 32 50]\n",
            "[2. 2. 2. 2. 2.]\n",
            "[2 2 2 2 2]\n",
            "[     2     16    216   4096 100000]\n"
          ]
        }
      ],
      "source": [
        "x = np.array([2,4,6,8,10])\n",
        "y = np.array([1,2,3,4,5])\n",
        "\n",
        "print(x + y)\n",
        "print(x - y)\n",
        "print(x * y)\n",
        "print(x / y)\n",
        "print(x // y)\n",
        "print(x ** y)"
      ]
    },
    {
      "cell_type": "markdown",
      "metadata": {
        "id": "BMZg3KOrJ-75"
      },
      "source": [
        "## 2.1.3 Indexing and Slicing\n",
        "\n",
        "There are various ways to select certain elements with an ndarray."
      ]
    },
    {
      "cell_type": "code",
      "execution_count": 6,
      "metadata": {
        "colab": {
          "base_uri": "https://localhost:8080/"
        },
        "id": "2WgVRlEUJ-76",
        "outputId": "e9b36f83-dc7a-4fda-8ae4-134ebbcb0c07"
      },
      "outputs": [
        {
          "name": "stdout",
          "output_type": "stream",
          "text": [
            "[-5 -4 -3 -2 -1  0  1  2  3  4]\n",
            "# y is a slice, i.e., pointer to a subarray in x [-2 -1]\n",
            "# modifying the value of y will change x [1000 1000]\n",
            "[  -5   -4   -3 1000 1000    0    1    2    3    4]\n",
            "[1000 1000]\n",
            "[500 500]\n",
            "[  -5   -4   -3 1000 1000    0    1    2    3    4]\n",
            "[  -5   -4   -3 1000 1000    0    1    2    3    4]\n",
            "[7 7 7 7 7 7 7 7 7 7]\n"
          ]
        }
      ],
      "source": [
        "x = np.arange(-5,5)\n",
        "print(x)\n",
        "\n",
        "y = x[3:5]     # y is a slice, i.e., pointer to a subarray in x\n",
        "print('# y is a slice, i.e., pointer to a subarray in x',y)\n",
        "y[:] = 1000    # modifying the value of y will change x\n",
        "print(\"# modifying the value of y will change x\",y)\n",
        "print(x)\n",
        "\n",
        "z = x[3:5].copy()   # makes a copy of the subarray\n",
        "print(z)\n",
        "z[:] = 500          # modifying the value of z will not affect x\n",
        "print(z)\n",
        "print(x)\n",
        "\n",
        "x2 = x.copy()\n",
        "print(x2)\n",
        "\n",
        "x2[:] = 7\n",
        "\n",
        "print(x2)"
      ]
    },
    {
      "cell_type": "code",
      "execution_count": 11,
      "metadata": {
        "colab": {
          "base_uri": "https://localhost:8080/"
        },
        "id": "MvASe20zJ-76",
        "outputId": "57e066d6-e931-4f3a-e8e9-11c195ab46a2"
      },
      "outputs": [
        {
          "name": "stdout",
          "output_type": "stream",
          "text": [
            "[ 3  7 11]\n",
            "[[3 4]\n",
            " [7 8]]\n"
          ]
        }
      ],
      "source": [
        "# my2dlist = [[1,2,3,4],[5,6,7,8],[9,10,11,12]]   # a 2-dim list\n",
        "# print(my2dlist)\n",
        "# print(my2dlist[2])        # access the third sublist\n",
        "# print(my2dlist[:][2])     # can't access third element of each sublist\n",
        "# print(my2dlist[:,2])    # this will cause syntax error\n",
        "\n",
        "my2darr = np.array(my2dlist)\n",
        "# print(my2darr)\n",
        "# print(my2darr[2][:])      # access the third row\n",
        "# print(my2darr[2,:])       # access the third row\n",
        "# print(my2darr[:][2])      # access the third row (similar to 2d list)\n",
        "print(my2darr[:,2])       # access the third column\n",
        "print(my2darr[:2,2:])     # access the first two rows & last two columns"
      ]
    },
    {
      "cell_type": "markdown",
      "metadata": {
        "id": "ARH3-HoiJ-77"
      },
      "source": [
        "ndarray also supports boolean indexing."
      ]
    },
    {
      "cell_type": "code",
      "execution_count": 12,
      "metadata": {
        "colab": {
          "base_uri": "https://localhost:8080/"
        },
        "id": "4l1-MpdNJ-77",
        "outputId": "c176c990-0c25-4210-c49e-8651a0e12da6"
      },
      "outputs": [
        {
          "name": "stdout",
          "output_type": "stream",
          "text": [
            "[[ 1  2  3  4]\n",
            " [ 5  6  7  8]\n",
            " [ 9 10 11 12]]\n",
            "[ 3  6  9 12] <class 'numpy.ndarray'>\n",
            "[[ 9 12]]\n"
          ]
        }
      ],
      "source": [
        "my2darr = np.arange(1,13,1).reshape(3,4)\n",
        "print(my2darr)\n",
        "\n",
        "divBy3 = my2darr[my2darr % 3 == 0]\n",
        "print(divBy3, type(divBy3))\n",
        "\n",
        "divBy3LastRow = my2darr[2:, my2darr[2,:] % 3 == 0]\n",
        "print(divBy3LastRow)"
      ]
    },
    {
      "cell_type": "markdown",
      "metadata": {
        "id": "Ep130C0iJ-77"
      },
      "source": [
        "More indexing examples."
      ]
    },
    {
      "cell_type": "code",
      "execution_count": 13,
      "metadata": {
        "colab": {
          "base_uri": "https://localhost:8080/"
        },
        "id": "pWghe1rmJ-77",
        "outputId": "02504c2f-780f-4008-af64-3aad06e9387b"
      },
      "outputs": [
        {
          "name": "stdout",
          "output_type": "stream",
          "text": [
            "[[ 1  2  3]\n",
            " [ 4  5  6]\n",
            " [ 7  8  9]\n",
            " [10 11 12]]\n",
            "[[ 7  8  9]\n",
            " [ 4  5  6]\n",
            " [ 1  2  3]\n",
            " [10 11 12]]\n",
            "[ 1  3  4  8 12]\n"
          ]
        }
      ],
      "source": [
        "my2darr = np.arange(1,13,1).reshape(4,3)\n",
        "print(my2darr)\n",
        "\n",
        "indices = [2,1,0,3]    # selected row indices\n",
        "print(my2darr[indices,:])\n",
        "\n",
        "rowIndex = [0,0,1,2,3]     # row index into my2darr\n",
        "columnIndex = [0,2,0,1,2]  # column index into my2darr\n",
        "print(my2darr[rowIndex,columnIndex])"
      ]
    },
    {
      "cell_type": "markdown",
      "metadata": {
        "id": "kr_4exJwJ-78"
      },
      "source": [
        "## 2.1.4 Numpy Arithmetic and Statistical Functions\n",
        "\n",
        "There are many built-in mathematical functions available for manipulating elements of nd-array."
      ]
    },
    {
      "cell_type": "code",
      "execution_count": 14,
      "metadata": {
        "colab": {
          "base_uri": "https://localhost:8080/"
        },
        "id": "b8bR-YC6J-78",
        "outputId": "b1f1dc50-e275-4e67-9153-9eec192acf1b"
      },
      "outputs": [
        {
          "name": "stdout",
          "output_type": "stream",
          "text": [
            "[-1.4  0.4 -3.2  2.5  3.4]\n",
            "[1.4 0.4 3.2 2.5 3.4]\n",
            "[1.18321596 0.63245553 1.78885438 1.58113883 1.84390889]\n",
            "[-1.  1. -1.  1.  1.]\n",
            "[ 0.24659696  1.4918247   0.0407622  12.18249396 29.96410005]\n",
            "[-3.2 -1.4  0.4  2.5  3.4]\n"
          ]
        }
      ],
      "source": [
        "y = np.array([-1.4, 0.4, -3.2, 2.5, 3.4])    # generate a random vector\n",
        "print(y)\n",
        "\n",
        "print(np.abs(y))          # convert to absolute values\n",
        "print(np.sqrt(abs(y)))    # apply square root to each element\n",
        "print(np.sign(y))         # get the sign of each element\n",
        "print(np.exp(y))          # apply exponentiation\n",
        "print(np.sort(y))         # sort array"
      ]
    },
    {
      "cell_type": "code",
      "execution_count": 15,
      "metadata": {
        "colab": {
          "base_uri": "https://localhost:8080/"
        },
        "id": "X_TyI9vLJ-78",
        "outputId": "3ec7a083-c21f-4c1f-f1c7-42e60afb15c5"
      },
      "outputs": [
        {
          "name": "stdout",
          "output_type": "stream",
          "text": [
            "[-2 -1  0  1  2]\n",
            "[-0.79252502  0.19516647 -0.07284237 -0.65177513 -0.96053848]\n",
            "[-2.79252502 -0.80483353 -0.07284237  0.34822487  1.03946152]\n",
            "[-1.20747498 -1.19516647  0.07284237  1.65177513  2.96053848]\n",
            "[ 1.58505004 -0.19516647 -0.         -0.65177513 -1.92107697]\n",
            "[ 2.52357963 -5.12383107 -0.         -1.53427148 -2.08216541]\n",
            "[-0.79252502  0.19516647  0.          1.          2.        ]\n"
          ]
        }
      ],
      "source": [
        "x = np.arange(-2,3)\n",
        "y = np.random.randn(5)\n",
        "print(x)\n",
        "print(y)\n",
        "\n",
        "print(np.add(x,y))           # element-wise addition       x + y\n",
        "print(np.subtract(x,y))      # element-wise subtraction    x - y\n",
        "print(np.multiply(x,y))      # element-wise multiplication x * y\n",
        "print(np.divide(x,y))        # element-wise division       x / y\n",
        "print(np.maximum(x,y))       # element-wise maximum        max(x,y)"
      ]
    },
    {
      "cell_type": "code",
      "execution_count": 16,
      "metadata": {
        "colab": {
          "base_uri": "https://localhost:8080/"
        },
        "id": "VmotLho8J-79",
        "outputId": "1f408649-18cc-4119-ae9c-57716726b881"
      },
      "outputs": [
        {
          "name": "stdout",
          "output_type": "stream",
          "text": [
            "[-3.2 -1.4  0.4  2.5  3.4]\n",
            "Min = -3.2\n",
            "Max = 3.4\n",
            "Average = 0.34000000000000014\n",
            "Std deviation = 2.432776191925595\n",
            "Sum = 1.7000000000000006\n"
          ]
        }
      ],
      "source": [
        "y = np.array([-3.2, -1.4, 0.4, 2.5, 3.4])    # generate a random vector\n",
        "print(y)\n",
        "\n",
        "print(\"Min =\", np.min(y))             # min \n",
        "print(\"Max =\", np.max(y))             # max \n",
        "print(\"Average =\", np.mean(y))        # mean/average\n",
        "print(\"Std deviation =\", np.std(y))   # standard deviation\n",
        "print(\"Sum =\", np.sum(y))             # sum "
      ]
    },
    {
      "cell_type": "markdown",
      "metadata": {
        "id": "LGeK8ry0J-79"
      },
      "source": [
        "## 2.1.5 Numpy linear algebra\n",
        "\n",
        "Numpy provides many functions to support linear algebra operations."
      ]
    },
    {
      "cell_type": "code",
      "execution_count": 17,
      "metadata": {
        "colab": {
          "base_uri": "https://localhost:8080/"
        },
        "id": "Dn1tj6_oJ-79",
        "outputId": "dc2c6773-b422-4840-da9f-cf5683cbde88"
      },
      "outputs": [
        {
          "name": "stdout",
          "output_type": "stream",
          "text": [
            "[[-0.12591407  1.95862692  0.88010688]\n",
            " [-0.85859309 -0.39658106 -1.54465089]]\n",
            "[[-0.12591407 -0.85859309]\n",
            " [ 1.95862692 -0.39658106]\n",
            " [ 0.88010688 -1.54465089]]\n",
            "[-0.7545593   1.36875255  0.61504552]\n",
            "[ 3.31719102 -0.84499255]\n",
            "[[ 4.6266619  -2.02810326]\n",
            " [-2.02810326  3.28040501]]\n",
            "[[0.75303645 0.09388306 1.21540874]\n",
            " [0.09388306 3.99349596 2.33638032]\n",
            " [1.21540874 2.33638032 3.1605345 ]]\n"
          ]
        }
      ],
      "source": [
        "X = np.random.randn(2,3)    # create a 2 x 3 random matrix\n",
        "print(X)\n",
        "print(X.T)             # matrix transpose operation X^T\n",
        "\n",
        "y = np.random.randn(3) # random vector \n",
        "print(y)\n",
        "print(X.dot(y))        # matrix-vector multiplication  X * y\n",
        "print(X.dot(X.T))      # matrix-matrix multiplication  X * X^T\n",
        "print(X.T.dot(X))      # matrix-matrix multiplication  X^T * X"
      ]
    },
    {
      "cell_type": "code",
      "execution_count": 18,
      "metadata": {
        "colab": {
          "base_uri": "https://localhost:8080/"
        },
        "id": "KRhmtGXfJ-79",
        "outputId": "ea80a80d-1d0a-44b3-e77a-07e155fc007e"
      },
      "outputs": [
        {
          "name": "stdout",
          "output_type": "stream",
          "text": [
            "[[-0.51463804  0.24843187 -0.62281623]\n",
            " [-0.32622631  1.26022608  0.62031824]\n",
            " [-1.07790619 -2.5843713   0.58735252]\n",
            " [ 0.33232378 -0.48903363 -0.297303  ]\n",
            " [ 1.58549139  1.28346059 -0.00910788]]\n",
            "[[ 0.41566701 -0.15896039  0.11669382]\n",
            " [-0.15896039  0.16346043  0.01983022]\n",
            " [ 0.11669382  0.01983022  0.90231076]]\n",
            "28.262485837787068\n",
            "[12.38161747  2.1210038   1.07619638]\n",
            "[[ 0.45139864  0.86269067  0.22804402]\n",
            " [ 0.88821129 -0.45890182 -0.02213191]\n",
            " [-0.08555683 -0.21254159  0.97339925]]\n"
          ]
        }
      ],
      "source": [
        "X = np.random.randn(5,3)\n",
        "print(X)\n",
        "\n",
        "C = X.T.dot(X)               # C = X^T * X is a square matrix\n",
        "\n",
        "invC = np.linalg.inv(C)      # inverse of a square matrix\n",
        "print(invC)\n",
        "detC = np.linalg.det(C)      # determinant of a square matrix\n",
        "print(detC)\n",
        "S, U = np.linalg.eig(C)      # eigenvalue S and eigenvector U of a square matrix\n",
        "print(S)\n",
        "print(U)"
      ]
    },
    {
      "cell_type": "markdown",
      "metadata": {
        "id": "epI-mjV8J-7-"
      },
      "source": [
        "## 2.2 Introduction to Pandas\n",
        "\n",
        "Pandas provide two convenient data structures for storing and manipulating data--Series and DataFrame. A Series is similar to a one-dimensional array whereas a DataFrame is more similar to representing a matrix or a spreadsheet table.  \n",
        "\n",
        "### 2.2.1 Series\n",
        "\n",
        "A Series object consists of a one-dimensional array of values, whose elements can be referenced using an index array. A Series object can be created from a list, a numpy array, or a Python dictionary. You can apply most of the numpy functions on the Series object.\n"
      ]
    },
    {
      "cell_type": "code",
      "execution_count": 19,
      "metadata": {
        "colab": {
          "base_uri": "https://localhost:8080/"
        },
        "id": "jhH5FhiUJ-7-",
        "outputId": "27731ec2-3323-4b3b-de5e-191fa4ec12de"
      },
      "outputs": [
        {
          "name": "stdout",
          "output_type": "stream",
          "text": [
            "0    3.1\n",
            "1    2.4\n",
            "2   -1.7\n",
            "3    0.2\n",
            "4   -2.9\n",
            "5    4.5\n",
            "dtype: float64\n",
            "Values= [ 3.1  2.4 -1.7  0.2 -2.9  4.5]\n",
            "Index= RangeIndex(start=0, stop=6, step=1)\n"
          ]
        }
      ],
      "source": [
        "from pandas import Series\n",
        "\n",
        "s = Series([3.1, 2.4, -1.7, 0.2, -2.9, 4.5])   # creating a series from a list\n",
        "print(s)\n",
        "print('Values=', s.values)     # display values of the Series\n",
        "print('Index=', s.index)       # display indices of the Series"
      ]
    },
    {
      "cell_type": "code",
      "execution_count": 20,
      "metadata": {
        "colab": {
          "base_uri": "https://localhost:8080/"
        },
        "id": "mD_VZEnTJ-7-",
        "outputId": "3ae60187-da22-4b05-cb35-fb5a2481a342"
      },
      "outputs": [
        {
          "name": "stdout",
          "output_type": "stream",
          "text": [
            "0    1.528872\n",
            "1   -0.350534\n",
            "2    1.910101\n",
            "3   -1.943033\n",
            "4   -0.044165\n",
            "5   -0.443009\n",
            "dtype: float64\n",
            "Values= [ 1.52887243 -0.35053366  1.91010079 -1.94303336 -0.04416475 -0.44300898]\n",
            "Index= RangeIndex(start=0, stop=6, step=1)\n"
          ]
        }
      ],
      "source": [
        "import numpy as np\n",
        "\n",
        "s2 = Series(np.random.randn(6))  # creating a series from a numpy ndarray\n",
        "print(s2)\n",
        "print('Values=', s2.values)   # display values of the Series\n",
        "print('Index=', s2.index)     # display indices of the Series"
      ]
    },
    {
      "cell_type": "code",
      "execution_count": 21,
      "metadata": {
        "colab": {
          "base_uri": "https://localhost:8080/"
        },
        "id": "h2_aF5dbJ-7-",
        "outputId": "7ca3f4f4-7f0c-40b6-8635-da3838cc98cd"
      },
      "outputs": [
        {
          "name": "stdout",
          "output_type": "stream",
          "text": [
            "Jan 1    1.2\n",
            "Jan 2    2.5\n",
            "Jan 3   -2.2\n",
            "Jan 4    3.1\n",
            "Jan 5   -0.8\n",
            "Jan 6   -3.2\n",
            "dtype: float64\n",
            "Values= [ 1.2  2.5 -2.2  3.1 -0.8 -3.2]\n",
            "Index= Index(['Jan 1', 'Jan 2', 'Jan 3', 'Jan 4', 'Jan 5', 'Jan 6'], dtype='object')\n"
          ]
        }
      ],
      "source": [
        "s3 = Series([1.2,2.5,-2.2,3.1,-0.8,-3.2], \n",
        "            index = ['Jan 1','Jan 2','Jan 3','Jan 4','Jan 5','Jan 6',])\n",
        "print(s3)\n",
        "print('Values=', s3.values)   # display values of the Series\n",
        "print('Index=', s3.index)     # display indices of the Series"
      ]
    },
    {
      "cell_type": "code",
      "execution_count": 22,
      "metadata": {
        "colab": {
          "base_uri": "https://localhost:8080/"
        },
        "id": "QTAL2_r_J-7-",
        "outputId": "9f5338d4-c3b9-4f6f-a1ee-f8d867063ebb"
      },
      "outputs": [
        {
          "name": "stdout",
          "output_type": "stream",
          "text": [
            "MI       Lansing\n",
            "CA    Sacramento\n",
            "TX        Austin\n",
            "MN       St Paul\n",
            "dtype: object\n",
            "Values= ['Lansing' 'Sacramento' 'Austin' 'St Paul']\n",
            "Index= Index(['MI', 'CA', 'TX', 'MN'], dtype='object')\n"
          ]
        }
      ],
      "source": [
        "capitals = {'MI': 'Lansing', 'CA': 'Sacramento', 'TX': 'Austin', 'MN': 'St Paul'}\n",
        "\n",
        "s4 = Series(capitals)   # creating a series from dictionary object\n",
        "print(s4)\n",
        "print('Values=', s4.values)   # display values of the Series\n",
        "print('Index=', s4.index)     # display indices of the Series"
      ]
    },
    {
      "cell_type": "code",
      "execution_count": 23,
      "metadata": {
        "colab": {
          "base_uri": "https://localhost:8080/"
        },
        "id": "b-K0CTuBJ-7_",
        "outputId": "62734364-99fe-4660-da42-a4fc3a4ae6e6"
      },
      "outputs": [
        {
          "name": "stdout",
          "output_type": "stream",
          "text": [
            "Jan 1    1.2\n",
            "Jan 2    2.5\n",
            "Jan 3   -2.2\n",
            "Jan 4    3.1\n",
            "Jan 5   -0.8\n",
            "Jan 6   -3.2\n",
            "dtype: float64\n",
            "\n",
            "s3[2]= -2.2\n",
            "s3['Jan 3']= -2.2\n",
            "\n",
            "s3[1:3]=\n",
            "Jan 2    2.5\n",
            "Jan 3   -2.2\n",
            "dtype: float64\n",
            "s3.iloc([1:3])=\n",
            "Jan 2    2.5\n",
            "Jan 3   -2.2\n",
            "dtype: float64\n"
          ]
        }
      ],
      "source": [
        "s3 = Series([1.2,2.5,-2.2,3.1,-0.8,-3.2], \n",
        "            index = ['Jan 1','Jan 2','Jan 3','Jan 4','Jan 5','Jan 6',])\n",
        "print(s3)\n",
        "\n",
        "# Accessing elements of a Series\n",
        "\n",
        "print('\\ns3[2]=', s3[2])        # display third element of the Series\n",
        "print('s3[\\'Jan 3\\']=', s3['Jan 3'])   # indexing element of a Series \n",
        "\n",
        "print('\\ns3[1:3]=')             # display a slice of the Series\n",
        "print(s3[1:3])\n",
        "print('s3.iloc([1:3])=')      # display a slice of the Series\n",
        "print(s3.iloc[1:3])"
      ]
    },
    {
      "cell_type": "code",
      "execution_count": 24,
      "metadata": {
        "colab": {
          "base_uri": "https://localhost:8080/"
        },
        "id": "ruuxFoQSJ-7_",
        "outputId": "ad183342-f45b-4ace-c0c5-fdde237ee05f"
      },
      "outputs": [
        {
          "name": "stdout",
          "output_type": "stream",
          "text": [
            "shape = (6,)\n",
            "size = 6\n"
          ]
        }
      ],
      "source": [
        "print('shape =', s3.shape)  # get the dimension of the Series\n",
        "print('size =', s3.size)    # get the # of elements of the Series"
      ]
    },
    {
      "cell_type": "code",
      "execution_count": 25,
      "metadata": {
        "colab": {
          "base_uri": "https://localhost:8080/"
        },
        "id": "pO0kkeYNJ-7_",
        "outputId": "03c17292-079c-4422-ea61-b15fe7971ccb"
      },
      "outputs": [
        {
          "name": "stdout",
          "output_type": "stream",
          "text": [
            "Jan 1    1.2\n",
            "Jan 2    2.5\n",
            "Jan 4    3.1\n",
            "dtype: float64\n"
          ]
        }
      ],
      "source": [
        "print(s3[s3 > 0])   # applying filter to select elements of the Series"
      ]
    },
    {
      "cell_type": "code",
      "execution_count": 26,
      "metadata": {
        "colab": {
          "base_uri": "https://localhost:8080/"
        },
        "id": "F5SvwN_pJ-7_",
        "outputId": "a7bedbdc-f928-4c6b-d16d-78be3b5d97c0"
      },
      "outputs": [
        {
          "name": "stdout",
          "output_type": "stream",
          "text": [
            "Jan 1    5.2\n",
            "Jan 2    6.5\n",
            "Jan 3    1.8\n",
            "Jan 4    7.1\n",
            "Jan 5    3.2\n",
            "Jan 6    0.8\n",
            "dtype: float64\n",
            "Jan 1    0.300\n",
            "Jan 2    0.625\n",
            "Jan 3   -0.550\n",
            "Jan 4    0.775\n",
            "Jan 5   -0.200\n",
            "Jan 6   -0.800\n",
            "dtype: float64\n"
          ]
        }
      ],
      "source": [
        "print(s3 + 4)       # applying scalar operation on a numeric Series\n",
        "print(s3 / 4)    "
      ]
    },
    {
      "cell_type": "code",
      "execution_count": 27,
      "metadata": {
        "colab": {
          "base_uri": "https://localhost:8080/"
        },
        "id": "bED47GUFJ-7_",
        "outputId": "16b59017-f127-45c3-9733-afcf7bfece34"
      },
      "outputs": [
        {
          "name": "stdout",
          "output_type": "stream",
          "text": [
            "Jan 1    1.648659\n",
            "Jan 2    1.871802\n",
            "Jan 3    0.587787\n",
            "Jan 4    1.960095\n",
            "Jan 5    1.163151\n",
            "Jan 6   -0.223144\n",
            "dtype: float64\n"
          ]
        }
      ],
      "source": [
        "print(np.log(s3 + 4))    # applying numpy math functions to a numeric Series"
      ]
    },
    {
      "cell_type": "markdown",
      "metadata": {
        "id": "tfojUO9fJ-7_"
      },
      "source": [
        "### 2.2.2 DataFrame\n",
        "\n",
        "A DataFrame object is a tabular, spreadsheet-like data structure containing a collection of columns, each of which can be of different types (numeric, string, boolean, etc). Unlike Series, a DataFrame has distinct row and column indices. There are many ways to create a DataFrame object (e.g., from a dictionary, list of tuples, or even numpy's ndarrays)."
      ]
    },
    {
      "cell_type": "code",
      "execution_count": 28,
      "metadata": {
        "colab": {
          "base_uri": "https://localhost:8080/",
          "height": 173
        },
        "id": "jx67BLQNJ-8A",
        "outputId": "d153e7f7-5ecf-47b4-c6b8-de792c854f96"
      },
      "outputs": [
        {
          "data": {
            "text/html": [
              "<div>\n",
              "<style scoped>\n",
              "    .dataframe tbody tr th:only-of-type {\n",
              "        vertical-align: middle;\n",
              "    }\n",
              "\n",
              "    .dataframe tbody tr th {\n",
              "        vertical-align: top;\n",
              "    }\n",
              "\n",
              "    .dataframe thead th {\n",
              "        text-align: right;\n",
              "    }\n",
              "</style>\n",
              "<table border=\"1\" class=\"dataframe\">\n",
              "  <thead>\n",
              "    <tr style=\"text-align: right;\">\n",
              "      <th></th>\n",
              "      <th>make</th>\n",
              "      <th>model</th>\n",
              "      <th>MSRP</th>\n",
              "    </tr>\n",
              "  </thead>\n",
              "  <tbody>\n",
              "    <tr>\n",
              "      <th>0</th>\n",
              "      <td>Ford</td>\n",
              "      <td>Taurus</td>\n",
              "      <td>27595</td>\n",
              "    </tr>\n",
              "    <tr>\n",
              "      <th>1</th>\n",
              "      <td>Honda</td>\n",
              "      <td>Accord</td>\n",
              "      <td>23570</td>\n",
              "    </tr>\n",
              "    <tr>\n",
              "      <th>2</th>\n",
              "      <td>Toyota</td>\n",
              "      <td>Camry</td>\n",
              "      <td>23495</td>\n",
              "    </tr>\n",
              "    <tr>\n",
              "      <th>3</th>\n",
              "      <td>Tesla</td>\n",
              "      <td>Model S</td>\n",
              "      <td>68000</td>\n",
              "    </tr>\n",
              "  </tbody>\n",
              "</table>\n",
              "</div>"
            ],
            "text/plain": [
              "     make    model   MSRP\n",
              "0    Ford   Taurus  27595\n",
              "1   Honda   Accord  23570\n",
              "2  Toyota    Camry  23495\n",
              "3   Tesla  Model S  68000"
            ]
          },
          "execution_count": 28,
          "metadata": {},
          "output_type": "execute_result"
        }
      ],
      "source": [
        "from pandas import DataFrame\n",
        "\n",
        "cars = {'make': ['Ford', 'Honda', 'Toyota', 'Tesla'],\n",
        "       'model': ['Taurus', 'Accord', 'Camry', 'Model S'],\n",
        "       'MSRP': [27595, 23570, 23495, 68000]}          \n",
        "carData = DataFrame(cars)   # creating DataFrame from dictionary\n",
        "carData                     # display the table"
      ]
    },
    {
      "cell_type": "code",
      "execution_count": 29,
      "metadata": {
        "colab": {
          "base_uri": "https://localhost:8080/"
        },
        "id": "5lnW8dWfJ-8A",
        "outputId": "85cd8b31-18f8-4043-b1a3-ffdb52f6cc58"
      },
      "outputs": [
        {
          "name": "stdout",
          "output_type": "stream",
          "text": [
            "RangeIndex(start=0, stop=4, step=1)\n",
            "Index(['make', 'model', 'MSRP'], dtype='object')\n"
          ]
        }
      ],
      "source": [
        "print(carData.index)       # print the row indices\n",
        "print(carData.columns)     # print the column indices"
      ]
    },
    {
      "cell_type": "code",
      "execution_count": 30,
      "metadata": {
        "colab": {
          "base_uri": "https://localhost:8080/",
          "height": 173
        },
        "id": "DdEKe_SrJ-8A",
        "outputId": "b1a911bb-9988-4e46-da88-c0c43a2fde06"
      },
      "outputs": [
        {
          "data": {
            "text/html": [
              "<div>\n",
              "<style scoped>\n",
              "    .dataframe tbody tr th:only-of-type {\n",
              "        vertical-align: middle;\n",
              "    }\n",
              "\n",
              "    .dataframe tbody tr th {\n",
              "        vertical-align: top;\n",
              "    }\n",
              "\n",
              "    .dataframe thead th {\n",
              "        text-align: right;\n",
              "    }\n",
              "</style>\n",
              "<table border=\"1\" class=\"dataframe\">\n",
              "  <thead>\n",
              "    <tr style=\"text-align: right;\">\n",
              "      <th></th>\n",
              "      <th>make</th>\n",
              "      <th>model</th>\n",
              "      <th>MSRP</th>\n",
              "      <th>year</th>\n",
              "      <th>dealership</th>\n",
              "    </tr>\n",
              "  </thead>\n",
              "  <tbody>\n",
              "    <tr>\n",
              "      <th>1</th>\n",
              "      <td>Ford</td>\n",
              "      <td>Taurus</td>\n",
              "      <td>27595</td>\n",
              "      <td>2018</td>\n",
              "      <td>Courtesy Ford</td>\n",
              "    </tr>\n",
              "    <tr>\n",
              "      <th>2</th>\n",
              "      <td>Honda</td>\n",
              "      <td>Accord</td>\n",
              "      <td>23570</td>\n",
              "      <td>2018</td>\n",
              "      <td>Capital Honda</td>\n",
              "    </tr>\n",
              "    <tr>\n",
              "      <th>3</th>\n",
              "      <td>Toyota</td>\n",
              "      <td>Camry</td>\n",
              "      <td>23495</td>\n",
              "      <td>2018</td>\n",
              "      <td>Spartan Toyota</td>\n",
              "    </tr>\n",
              "    <tr>\n",
              "      <th>4</th>\n",
              "      <td>Tesla</td>\n",
              "      <td>Model S</td>\n",
              "      <td>68000</td>\n",
              "      <td>2018</td>\n",
              "      <td>N/A</td>\n",
              "    </tr>\n",
              "  </tbody>\n",
              "</table>\n",
              "</div>"
            ],
            "text/plain": [
              "     make    model   MSRP  year      dealership\n",
              "1    Ford   Taurus  27595  2018   Courtesy Ford\n",
              "2   Honda   Accord  23570  2018   Capital Honda\n",
              "3  Toyota    Camry  23495  2018  Spartan Toyota\n",
              "4   Tesla  Model S  68000  2018             N/A"
            ]
          },
          "execution_count": 30,
          "metadata": {},
          "output_type": "execute_result"
        }
      ],
      "source": [
        "carData2 = DataFrame(cars, index = [1,2,3,4])  # change the row index\n",
        "carData2['year'] = 2018    # add column with same value\n",
        "carData2['dealership'] = ['Courtesy Ford','Capital Honda','Spartan Toyota','N/A']\n",
        "carData2                   # display table"
      ]
    },
    {
      "cell_type": "markdown",
      "metadata": {
        "id": "u93wo0_uJ-8A"
      },
      "source": [
        "Creating DataFrame from a list of tuples."
      ]
    },
    {
      "cell_type": "code",
      "execution_count": 31,
      "metadata": {
        "colab": {
          "base_uri": "https://localhost:8080/",
          "height": 235
        },
        "id": "auT5B_F-J-8A",
        "outputId": "857cce8a-627a-46a7-8a65-77cb9aa38e65"
      },
      "outputs": [
        {
          "data": {
            "text/html": [
              "<div>\n",
              "<style scoped>\n",
              "    .dataframe tbody tr th:only-of-type {\n",
              "        vertical-align: middle;\n",
              "    }\n",
              "\n",
              "    .dataframe tbody tr th {\n",
              "        vertical-align: top;\n",
              "    }\n",
              "\n",
              "    .dataframe thead th {\n",
              "        text-align: right;\n",
              "    }\n",
              "</style>\n",
              "<table border=\"1\" class=\"dataframe\">\n",
              "  <thead>\n",
              "    <tr style=\"text-align: right;\">\n",
              "      <th></th>\n",
              "      <th>year</th>\n",
              "      <th>temp</th>\n",
              "      <th>precip</th>\n",
              "    </tr>\n",
              "  </thead>\n",
              "  <tbody>\n",
              "    <tr>\n",
              "      <th>0</th>\n",
              "      <td>2011</td>\n",
              "      <td>45.1</td>\n",
              "      <td>32.4</td>\n",
              "    </tr>\n",
              "    <tr>\n",
              "      <th>1</th>\n",
              "      <td>2012</td>\n",
              "      <td>42.4</td>\n",
              "      <td>34.5</td>\n",
              "    </tr>\n",
              "    <tr>\n",
              "      <th>2</th>\n",
              "      <td>2013</td>\n",
              "      <td>47.2</td>\n",
              "      <td>39.2</td>\n",
              "    </tr>\n",
              "    <tr>\n",
              "      <th>3</th>\n",
              "      <td>2014</td>\n",
              "      <td>44.2</td>\n",
              "      <td>31.4</td>\n",
              "    </tr>\n",
              "    <tr>\n",
              "      <th>4</th>\n",
              "      <td>2015</td>\n",
              "      <td>39.9</td>\n",
              "      <td>29.8</td>\n",
              "    </tr>\n",
              "    <tr>\n",
              "      <th>5</th>\n",
              "      <td>2016</td>\n",
              "      <td>41.5</td>\n",
              "      <td>36.7</td>\n",
              "    </tr>\n",
              "  </tbody>\n",
              "</table>\n",
              "</div>"
            ],
            "text/plain": [
              "   year  temp  precip\n",
              "0  2011  45.1    32.4\n",
              "1  2012  42.4    34.5\n",
              "2  2013  47.2    39.2\n",
              "3  2014  44.2    31.4\n",
              "4  2015  39.9    29.8\n",
              "5  2016  41.5    36.7"
            ]
          },
          "execution_count": 31,
          "metadata": {},
          "output_type": "execute_result"
        }
      ],
      "source": [
        "tuplelist = [(2011,45.1,32.4),(2012,42.4,34.5),(2013,47.2,39.2),\n",
        "              (2014,44.2,31.4),(2015,39.9,29.8),(2016,41.5,36.7)]\n",
        "columnNames = ['year','temp','precip']\n",
        "weatherData = DataFrame(tuplelist, columns=columnNames)\n",
        "weatherData"
      ]
    },
    {
      "cell_type": "markdown",
      "metadata": {
        "id": "I_6RMAGxJ-8B"
      },
      "source": [
        "Creating DataFrame from numpy ndarray"
      ]
    },
    {
      "cell_type": "code",
      "execution_count": 32,
      "metadata": {
        "colab": {
          "base_uri": "https://localhost:8080/",
          "height": 204
        },
        "id": "a-i6JHICJ-8B",
        "outputId": "415e9d25-71cd-44a0-f417-a1402341bd80"
      },
      "outputs": [
        {
          "data": {
            "text/html": [
              "<div>\n",
              "<style scoped>\n",
              "    .dataframe tbody tr th:only-of-type {\n",
              "        vertical-align: middle;\n",
              "    }\n",
              "\n",
              "    .dataframe tbody tr th {\n",
              "        vertical-align: top;\n",
              "    }\n",
              "\n",
              "    .dataframe thead th {\n",
              "        text-align: right;\n",
              "    }\n",
              "</style>\n",
              "<table border=\"1\" class=\"dataframe\">\n",
              "  <thead>\n",
              "    <tr style=\"text-align: right;\">\n",
              "      <th></th>\n",
              "      <th>x1</th>\n",
              "      <th>x2</th>\n",
              "      <th>x3</th>\n",
              "    </tr>\n",
              "  </thead>\n",
              "  <tbody>\n",
              "    <tr>\n",
              "      <th>0</th>\n",
              "      <td>1.012565</td>\n",
              "      <td>0.317068</td>\n",
              "      <td>-1.663122</td>\n",
              "    </tr>\n",
              "    <tr>\n",
              "      <th>1</th>\n",
              "      <td>-0.572042</td>\n",
              "      <td>0.707994</td>\n",
              "      <td>0.555192</td>\n",
              "    </tr>\n",
              "    <tr>\n",
              "      <th>2</th>\n",
              "      <td>-0.131903</td>\n",
              "      <td>0.452681</td>\n",
              "      <td>-0.726159</td>\n",
              "    </tr>\n",
              "    <tr>\n",
              "      <th>3</th>\n",
              "      <td>0.604285</td>\n",
              "      <td>1.682124</td>\n",
              "      <td>-1.662278</td>\n",
              "    </tr>\n",
              "    <tr>\n",
              "      <th>4</th>\n",
              "      <td>0.047171</td>\n",
              "      <td>1.182393</td>\n",
              "      <td>-0.037709</td>\n",
              "    </tr>\n",
              "  </tbody>\n",
              "</table>\n",
              "</div>"
            ],
            "text/plain": [
              "         x1        x2        x3\n",
              "0  1.012565  0.317068 -1.663122\n",
              "1 -0.572042  0.707994  0.555192\n",
              "2 -0.131903  0.452681 -0.726159\n",
              "3  0.604285  1.682124 -1.662278\n",
              "4  0.047171  1.182393 -0.037709"
            ]
          },
          "execution_count": 32,
          "metadata": {},
          "output_type": "execute_result"
        }
      ],
      "source": [
        "import numpy as np\n",
        "\n",
        "npdata = np.random.randn(5,3)  # create a 5 by 3 random matrix\n",
        "columnNames = ['x1','x2','x3']\n",
        "data = DataFrame(npdata, columns=columnNames)\n",
        "data"
      ]
    },
    {
      "cell_type": "markdown",
      "metadata": {
        "id": "kjoauRqbJ-8B"
      },
      "source": [
        "The elements of a DataFrame can be accessed in many ways."
      ]
    },
    {
      "cell_type": "code",
      "execution_count": 33,
      "metadata": {
        "colab": {
          "base_uri": "https://localhost:8080/"
        },
        "id": "8WCmKGpvJ-8B",
        "outputId": "b9536061-5dde-44aa-c53a-717ac27cd53a"
      },
      "outputs": [
        {
          "name": "stdout",
          "output_type": "stream",
          "text": [
            "0    0.317068\n",
            "1    0.707994\n",
            "2    0.452681\n",
            "3    1.682124\n",
            "4    1.182393\n",
            "Name: x2, dtype: float64\n",
            "<class 'pandas.core.series.Series'>\n"
          ]
        }
      ],
      "source": [
        "# accessing an entire column will return a Series object\n",
        "\n",
        "print(data['x2'])\n",
        "print(type(data['x2']))"
      ]
    },
    {
      "cell_type": "code",
      "execution_count": 34,
      "metadata": {
        "colab": {
          "base_uri": "https://localhost:8080/"
        },
        "id": "f9jM57KkJ-8B",
        "outputId": "8c318b9d-8da3-4413-cf7d-de1bb0157d1d"
      },
      "outputs": [
        {
          "name": "stdout",
          "output_type": "stream",
          "text": [
            "Row 3 of data table:\n",
            "x1   -0.131903\n",
            "x2    0.452681\n",
            "x3   -0.726159\n",
            "Name: 2, dtype: float64\n",
            "<class 'pandas.core.series.Series'>\n",
            "\n",
            "Row 3 of car data table:\n",
            "make                  Toyota\n",
            "model                  Camry\n",
            "MSRP                   23495\n",
            "year                    2018\n",
            "dealership    Spartan Toyota\n",
            "Name: 3, dtype: object\n"
          ]
        }
      ],
      "source": [
        "# accessing an entire row will return a Series object\n",
        "\n",
        "print('Row 3 of data table:')\n",
        "print(data.iloc[2])       # returns the 3rd row of DataFrame\n",
        "print(type(data.iloc[2]))\n",
        "print('\\nRow 3 of car data table:')\n",
        "print(carData2.iloc[2])   # row contains objects of different types"
      ]
    },
    {
      "cell_type": "code",
      "execution_count": 35,
      "metadata": {
        "colab": {
          "base_uri": "https://localhost:8080/"
        },
        "id": "YDZry_ZaJ-8B",
        "outputId": "4ed7608c-0742-4bbd-e8bc-b2130d89ee45"
      },
      "outputs": [
        {
          "name": "stdout",
          "output_type": "stream",
          "text": [
            "23570\n",
            "Taurus\n",
            "carData2.iloc[1:3,1:3]=\n",
            "    model   MSRP\n",
            "2  Accord  23570\n",
            "3   Camry  23495\n"
          ]
        }
      ],
      "source": [
        "# accessing a specific element of the DataFrame\n",
        "\n",
        "print(carData2.iloc[1,2])      # retrieving second row, third column\n",
        "print(carData2.loc[1,'model']) # retrieving second row, column named 'model'\n",
        "\n",
        "# accessing a slice of the DataFrame\n",
        "\n",
        "print('carData2.iloc[1:3,1:3]=')\n",
        "print(carData2.iloc[1:3,1:3])"
      ]
    },
    {
      "cell_type": "code",
      "execution_count": 36,
      "metadata": {
        "colab": {
          "base_uri": "https://localhost:8080/"
        },
        "id": "6YEaUSqyJ-8C",
        "outputId": "143cfd45-c334-4f41-9b4f-65d996396cc1"
      },
      "outputs": [
        {
          "name": "stdout",
          "output_type": "stream",
          "text": [
            "carData2.shape = (4, 5)\n",
            "carData2.size = 20\n"
          ]
        }
      ],
      "source": [
        "print('carData2.shape =', carData2.shape)\n",
        "print('carData2.size =', carData2.size)"
      ]
    },
    {
      "cell_type": "code",
      "execution_count": 37,
      "metadata": {
        "colab": {
          "base_uri": "https://localhost:8080/"
        },
        "id": "Q2fj9NKrJ-8C",
        "outputId": "50d6a9e3-34fd-41e0-a876-cc4fe421cf25"
      },
      "outputs": [
        {
          "name": "stdout",
          "output_type": "stream",
          "text": [
            "carData2[carData2.MSRP > 25000]\n",
            "    make    model   MSRP  year     dealership\n",
            "1   Ford   Taurus  27595  2018  Courtesy Ford\n",
            "4  Tesla  Model S  68000  2018            N/A\n"
          ]
        }
      ],
      "source": [
        "# selection and filtering\n",
        "\n",
        "print('carData2[carData2.MSRP > 25000]')  \n",
        "print(carData2[carData2.MSRP > 25000])"
      ]
    },
    {
      "cell_type": "markdown",
      "metadata": {
        "id": "S7xs15kNJ-8C"
      },
      "source": [
        "### 2.2.3 Arithmetic Operations"
      ]
    },
    {
      "cell_type": "code",
      "execution_count": 38,
      "metadata": {
        "colab": {
          "base_uri": "https://localhost:8080/"
        },
        "id": "CIYvZBwtJ-8C",
        "outputId": "e82685a4-3b36-4533-e459-ee9c793f8c30"
      },
      "outputs": [
        {
          "name": "stdout",
          "output_type": "stream",
          "text": [
            "         x1        x2        x3\n",
            "0  1.012565  0.317068 -1.663122\n",
            "1 -0.572042  0.707994  0.555192\n",
            "2 -0.131903  0.452681 -0.726159\n",
            "3  0.604285  1.682124 -1.662278\n",
            "4  0.047171  1.182393 -0.037709\n",
            "Data transpose operation:\n",
            "           0         1         2         3         4\n",
            "x1  1.012565 -0.572042 -0.131903  0.604285  0.047171\n",
            "x2  0.317068  0.707994  0.452681  1.682124  1.182393\n",
            "x3 -1.663122  0.555192 -0.726159 -1.662278 -0.037709\n",
            "Addition:\n",
            "         x1        x2        x3\n",
            "0  5.012565  4.317068  2.336878\n",
            "1  3.427958  4.707994  4.555192\n",
            "2  3.868097  4.452681  3.273841\n",
            "3  4.604285  5.682124  2.337722\n",
            "4  4.047171  5.182393  3.962291\n",
            "Multiplication:\n",
            "          x1         x2         x3\n",
            "0  10.125652   3.170678 -16.631224\n",
            "1  -5.720422   7.079944   5.551921\n",
            "2  -1.319029   4.526812  -7.261588\n",
            "3   6.042846  16.821236 -16.622776\n",
            "4   0.471711  11.823928  -0.377087\n"
          ]
        }
      ],
      "source": [
        "print(data)\n",
        "\n",
        "print('Data transpose operation:')\n",
        "print(data.T)    # transpose operation\n",
        "\n",
        "print('Addition:')\n",
        "print(data + 4)    # addition operation\n",
        "\n",
        "print('Multiplication:')\n",
        "print(data * 10)   # multiplication operation"
      ]
    },
    {
      "cell_type": "code",
      "execution_count": 39,
      "metadata": {
        "colab": {
          "base_uri": "https://localhost:8080/"
        },
        "id": "EKSj-zxHJ-8C",
        "outputId": "8241292c-d9f5-48ca-c74b-eaf8a1eb9de7"
      },
      "outputs": [
        {
          "name": "stdout",
          "output_type": "stream",
          "text": [
            "data =\n",
            "         x1        x2        x3\n",
            "0  1.012565  0.317068 -1.663122\n",
            "1 -0.572042  0.707994  0.555192\n",
            "2 -0.131903  0.452681 -0.726159\n",
            "3  0.604285  1.682124 -1.662278\n",
            "4  0.047171  1.182393 -0.037709\n",
            "\n",
            "data2 =\n",
            "         x1        x2        x3\n",
            "0 -0.188128 -1.349744 -0.475240\n",
            "1  0.876709 -0.011121  0.316577\n",
            "2  1.624763 -2.484212 -1.023538\n",
            "3  0.561509  1.133311 -0.749853\n",
            "4 -0.208741 -0.454306  1.077313\n",
            "\n",
            "data + data2 = \n",
            "         x1        x2        x3\n",
            "0  0.824437 -1.032676 -2.138362\n",
            "1  0.304666  0.696874  0.871769\n",
            "2  1.492860 -2.031531 -1.749696\n",
            "3  1.165794  2.815435 -2.412131\n",
            "4 -0.161570  0.728087  1.039605\n",
            "\n",
            "data * data2 = \n",
            "         x1        x2        x3\n",
            "0 -0.190492 -0.427960  0.790382\n",
            "1 -0.501514 -0.007873  0.175761\n",
            "2 -0.214311 -1.124556  0.743251\n",
            "3  0.339311  1.906369  1.246464\n",
            "4 -0.009847 -0.537168 -0.040624\n"
          ]
        }
      ],
      "source": [
        "print('data =')\n",
        "print(data)\n",
        "\n",
        "columnNames = ['x1','x2','x3']\n",
        "data2 = DataFrame(np.random.randn(5,3), columns=columnNames)\n",
        "print('\\ndata2 =')\n",
        "print(data2)\n",
        "\n",
        "print('\\ndata + data2 = ')\n",
        "print(data.add(data2))\n",
        "\n",
        "print('\\ndata * data2 = ')\n",
        "print(data.mul(data2))"
      ]
    },
    {
      "cell_type": "code",
      "execution_count": 40,
      "metadata": {
        "colab": {
          "base_uri": "https://localhost:8080/"
        },
        "id": "dg35exMnJ-8C",
        "outputId": "3168885b-4ecc-416e-f548-ec59ec24e69f"
      },
      "outputs": [
        {
          "name": "stdout",
          "output_type": "stream",
          "text": [
            "         x1        x2        x3\n",
            "0  1.012565  0.317068  1.663122\n",
            "1  0.572042  0.707994  0.555192\n",
            "2  0.131903  0.452681  0.726159\n",
            "3  0.604285  1.682124  1.662278\n",
            "4  0.047171  1.182393  0.037709\n",
            "\n",
            "Maximum value per column:\n",
            "x1    1.012565\n",
            "x2    1.682124\n",
            "x3    0.555192\n",
            "dtype: float64\n",
            "\n",
            "Minimum value per row:\n",
            "0   -1.663122\n",
            "1   -0.572042\n",
            "2   -0.726159\n",
            "3   -1.662278\n",
            "4   -0.037709\n",
            "dtype: float64\n",
            "\n",
            "Sum of values per column:\n",
            "x1    0.960076\n",
            "x2    4.342260\n",
            "x3   -3.534075\n",
            "dtype: float64\n",
            "\n",
            "Average value per row:\n",
            "0   -0.111163\n",
            "1    0.230381\n",
            "2   -0.135127\n",
            "3    0.208044\n",
            "4    0.397285\n",
            "dtype: float64\n",
            "\n",
            "Calculate max - min per column\n",
            "x1    1.584607\n",
            "x2    1.365056\n",
            "x3    2.218314\n",
            "dtype: float64\n",
            "\n",
            "Calculate max - min per row\n",
            "0    2.675688\n",
            "1    1.280037\n",
            "2    1.178840\n",
            "3    3.344401\n",
            "4    1.220102\n",
            "dtype: float64\n"
          ]
        }
      ],
      "source": [
        "print(data.abs())    # get the absolute value for each element\n",
        "\n",
        "print('\\nMaximum value per column:')\n",
        "print(data.max())    # get maximum value for each column\n",
        "\n",
        "print('\\nMinimum value per row:')\n",
        "print(data.min(axis=1))    # get minimum value for each row\n",
        "\n",
        "print('\\nSum of values per column:')\n",
        "print(data.sum())    # get sum of values for each column\n",
        "\n",
        "print('\\nAverage value per row:')\n",
        "print(data.mean(axis=1))    # get average value for each row\n",
        "\n",
        "print('\\nCalculate max - min per column')\n",
        "f = lambda x: x.max() - x.min()\n",
        "print(data.apply(f))\n",
        "\n",
        "print('\\nCalculate max - min per row')\n",
        "f = lambda x: x.max() - x.min()\n",
        "print(data.apply(f, axis=1))"
      ]
    },
    {
      "cell_type": "markdown",
      "metadata": {
        "id": "8wXv2DIVJ-8D"
      },
      "source": [
        "### 2.2.4 Plotting Series and DataFrame\n",
        "\n",
        "There are built-in functions you can use to plot the data stored in a Series or a DataFrame."
      ]
    },
    {
      "cell_type": "code",
      "execution_count": 41,
      "metadata": {
        "colab": {
          "base_uri": "https://localhost:8080/",
          "height": 299
        },
        "id": "Mqbk7Jv6J-8D",
        "outputId": "e0bab7f9-c7d7-4e0a-e7e6-882342e43ae9"
      },
      "outputs": [
        {
          "data": {
            "text/plain": [
              "<matplotlib.axes._subplots.AxesSubplot at 0x7f6ff46f6190>"
            ]
          },
          "execution_count": 41,
          "metadata": {},
          "output_type": "execute_result"
        },
        {
          "data": {
            "image/png": "[encoded data removed]",
            "text/plain": [
              "<Figure size 432x288 with 1 Axes>"
            ]
          },
          "metadata": {
            "needs_background": "light"
          },
          "output_type": "display_data"
        }
      ],
      "source": [
        "%matplotlib inline\n",
        "\n",
        "s3 = Series([1.2,2.5,-2.2,3.1,-0.8,-3.2,1.4], \n",
        "            index = ['Jan 1','Jan 2','Jan 3','Jan 4','Jan 5','Jan 6','Jan 7'])\n",
        "s3.plot(kind='line', title='Line plot')"
      ]
    },
    {
      "cell_type": "code",
      "execution_count": 42,
      "metadata": {
        "colab": {
          "base_uri": "https://localhost:8080/",
          "height": 314
        },
        "id": "vAHX4KzDJ-8D",
        "outputId": "6867eff7-e8a6-4d6a-c8c3-60811f823292"
      },
      "outputs": [
        {
          "data": {
            "text/plain": [
              "<matplotlib.axes._subplots.AxesSubplot at 0x7f6fe5fdbcd0>"
            ]
          },
          "execution_count": 42,
          "metadata": {},
          "output_type": "execute_result"
        },
        {
          "data": {
            "image/png": "[encoded data removed]",
            "text/plain": [
              "<Figure size 432x288 with 1 Axes>"
            ]
          },
          "metadata": {
            "needs_background": "light"
          },
          "output_type": "display_data"
        }
      ],
      "source": [
        "s3.plot(kind='bar', title='Bar plot')"
      ]
    },
    {
      "cell_type": "code",
      "execution_count": 43,
      "metadata": {
        "colab": {
          "base_uri": "https://localhost:8080/",
          "height": 299
        },
        "id": "FFDi45b2J-8D",
        "outputId": "971e2bae-14e2-4c46-c77b-725585ba6c85"
      },
      "outputs": [
        {
          "data": {
            "text/plain": [
              "<matplotlib.axes._subplots.AxesSubplot at 0x7f6fe5a154d0>"
            ]
          },
          "execution_count": 43,
          "metadata": {},
          "output_type": "execute_result"
        },
        {
          "data": {
            "image/png": "[encoded data removed]",
            "text/plain": [
              "<Figure size 432x288 with 1 Axes>"
            ]
          },
          "metadata": {
            "needs_background": "light"
          },
          "output_type": "display_data"
        }
      ],
      "source": [
        "s3.plot(kind='hist', title = 'Histogram')"
      ]
    },
    {
      "cell_type": "code",
      "execution_count": 44,
      "metadata": {
        "colab": {
          "base_uri": "https://localhost:8080/",
          "height": 299
        },
        "id": "pFCZLDzdJ-8D",
        "outputId": "2bb8a322-ce88-458f-fc89-30504d973f2f"
      },
      "outputs": [
        {
          "data": {
            "text/plain": [
              "<matplotlib.axes._subplots.AxesSubplot at 0x7f6fe6ae7b90>"
            ]
          },
          "execution_count": 44,
          "metadata": {},
          "output_type": "execute_result"
        },
        {
          "data": {
            "image/png": "[encoded data removed]",
            "text/plain": [
              "<Figure size 432x288 with 1 Axes>"
            ]
          },
          "metadata": {
            "needs_background": "light"
          },
          "output_type": "display_data"
        }
      ],
      "source": [
        "tuplelist = [(2011,45.1,32.4),(2012,42.4,34.5),(2013,47.2,39.2),\n",
        "              (2014,44.2,31.4),(2015,39.9,29.8),(2016,41.5,36.7)]\n",
        "columnNames = ['year','temp','precip']\n",
        "weatherData = DataFrame(tuplelist, columns=columnNames)\n",
        "weatherData[['temp','precip']].plot(kind='box', title='Box plot')"
      ]
    },
    {
      "cell_type": "code",
      "execution_count": 44,
      "metadata": {
        "id": "nSup7jvN3g3Y"
      },
      "outputs": [],
      "source": []
    }
  ],
  "metadata": {
    "colab": {
      "name": "tutorial2.ipynb",
      "provenance": []
    },
    "kernelspec": {
      "display_name": "Python 3",
      "language": "python",
      "name": "python3"
    },
    "language_info": {
      "codemirror_mode": {
        "name": "ipython",
        "version": 3
      },
      "file_extension": ".py",
      "mimetype": "text/x-python",
      "name": "python",
      "nbconvert_exporter": "python",
      "pygments_lexer": "ipython3",
      "version": "3.6.4"
    }
  },
  "nbformat": 4,
  "nbformat_minor": 0
}
