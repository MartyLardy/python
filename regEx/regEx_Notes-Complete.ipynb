{
 "cells": [
  {
   "cell_type": "code",
   "execution_count": 27,
   "id": "8e321a8c-3bdc-4d5a-8009-586d57387b2b",
   "metadata": {},
   "outputs": [],
   "source": [
    "import re"
   ]
  },
  {
   "cell_type": "code",
   "execution_count": 71,
   "id": "413349f4-b965-4a71-afd5-203504f7daf8",
   "metadata": {},
   "outputs": [],
   "source": [
    "test_string = \"123abc456789abc123ABC\"\n",
    "# find abc"
   ]
  },
  {
   "cell_type": "code",
   "execution_count": 121,
   "id": "9062254c-ce34-4b2f-84c2-b084a008a24e",
   "metadata": {},
   "outputs": [
    {
     "name": "stdout",
     "output_type": "stream",
     "text": [
      "<callable_iterator object at 0x7f9e7220d2e0>\n"
     ]
    }
   ],
   "source": [
    "#.compile() Method\n",
    "#---------------------------------------------------\n",
    "\n",
    "# finditer() - returns an Object (memory location)\n",
    "# findall() - returns a tuple\n",
    "\n",
    "#explicit (readable)\n",
    "#example1:\n",
    "pattern = re.compile(r\"abc\")\n",
    "matches = pattern.finditer(test_string)\n",
    "#Match will not be an object that we can iterate over\n",
    "print(matches) #object that we can iterate over\n",
    "for match in matches:\n",
    "    print(match)\n",
    "#----------------------------------------------------\n",
    "# same result.\n",
    "#example2:\n",
    "matches=re.finditer(r\"abc\", test_string)\n",
    "for match in matches:\n",
    "    print(match)"
   ]
  },
  {
   "cell_type": "code",
   "execution_count": 122,
   "id": "2607d620-0ef3-4510-9c67-a9ebdb9cf21f",
   "metadata": {},
   "outputs": [],
   "source": [
    "#----------------------------------------------------"
   ]
  },
  {
   "cell_type": "code",
   "execution_count": 123,
   "id": "7e480268-196b-470f-a06c-9932c0c2277d",
   "metadata": {},
   "outputs": [],
   "source": [
    "#other methods 3 in total\n",
    "#match(), search(), findall()"
   ]
  },
  {
   "cell_type": "code",
   "execution_count": 124,
   "id": "6689248b-4fac-4bbb-90ed-26083f77f0e8",
   "metadata": {},
   "outputs": [
    {
     "name": "stdout",
     "output_type": "stream",
     "text": [
      "abc\n",
      "abc\n"
     ]
    }
   ],
   "source": [
    "#1 find all\n",
    "test_string = \"123abc456789abc123ABC\"\n",
    "\n",
    "pattern = re.compile(r\"abc\")\n",
    "matches = pattern.findall(test_string)\n",
    "\n",
    "for match in matches:\n",
    "    print(match)"
   ]
  },
  {
   "cell_type": "code",
   "execution_count": 125,
   "id": "1f71d78b-a1f6-4efd-a601-74f5620244e8",
   "metadata": {},
   "outputs": [
    {
     "name": "stdout",
     "output_type": "stream",
     "text": [
      "None\n"
     ]
    }
   ],
   "source": [
    "#2 find .match(). it will ONLY MATCH FROM THE BEGINING.\n",
    "test_string = \"123abc456789abc123ABC\"\n",
    "#abc is not in the begining\n",
    "\n",
    "pattern = re.compile(r\"abc\")\n",
    "match = pattern.match(test_string)\n",
    "\n",
    "print(match)"
   ]
  },
  {
   "cell_type": "code",
   "execution_count": 126,
   "id": "6d3c9e78-6536-4ed2-9b08-5f296080ccb3",
   "metadata": {},
   "outputs": [
    {
     "name": "stdout",
     "output_type": "stream",
     "text": [
      "<re.Match object; span=(0, 3), match='123'>\n"
     ]
    }
   ],
   "source": [
    "#2 find with .match() ONLY FROM THE BEGINING\n",
    "test_string = \"123abc456789abc123ABC\"\n",
    "\n",
    "pattern = re.compile(r\"123\")\n",
    "match = pattern.match(test_string)\n",
    "print(match)"
   ]
  },
  {
   "cell_type": "code",
   "execution_count": 127,
   "id": "2a0c2ba5-ba8c-46d2-b31c-75e49de25eff",
   "metadata": {},
   "outputs": [
    {
     "name": "stdout",
     "output_type": "stream",
     "text": [
      "<re.Match object; span=(3, 6), match='abc'>\n"
     ]
    }
   ],
   "source": [
    "#3 search() \n",
    "# SEARCH ANY LOCATION\n",
    "test_string = \"123abc456789abc123ABC\"\n",
    "\n",
    "pattern = re.compile(\"abc\")\n",
    "match = pattern.search(test_string)\n",
    "print(match)"
   ]
  },
  {
   "cell_type": "code",
   "execution_count": 128,
   "id": "65f5d59e-459f-4849-a119-ea7ffe5b447a",
   "metadata": {},
   "outputs": [
    {
     "name": "stdout",
     "output_type": "stream",
     "text": [
      "span: (3, 6) start: 3 end: 6 group abc\n",
      "span: (12, 15) start: 12 end: 15 group abc\n"
     ]
    }
   ],
   "source": [
    "# finditter() metthod\n",
    "pattern = re.compile(r\"abc\")\n",
    "matches = pattern.finditer(test_string)\n",
    "\n",
    "# can use 4 different methonds on the match object with .finditer()\n",
    "# group(), start(), end(), span()\n",
    "for match in matches:\n",
    "    print('span:',match.span(),\"start:\",match.start(),\n",
    "          \"end:\" ,match.end(), \"group\",match.group())\n",
    "    \n",
    "#found all "
   ]
  },
  {
   "cell_type": "code",
   "execution_count": 129,
   "id": "d17b9676-87f0-402b-b25f-046362244cb2",
   "metadata": {},
   "outputs": [],
   "source": [
    "# Meta Characters\n",
    "# .^$*+?{}[]\\|()"
   ]
  },
  {
   "cell_type": "code",
   "execution_count": 130,
   "id": "562dd2f3-14e6-4f43-b084-797f714e69ee",
   "metadata": {},
   "outputs": [],
   "source": [
    "# . Any Character (except newline charcter)\n",
    "# ^ Starts with \"^hello\"\n",
    "# $ Ends with \"hello$\"\n",
    "# * Zero or more occurrences \"aix*\"\n",
    "# + One or more occurrences \"aix+\"\n",
    "# {} Exactly the specified  nymber of occurrences \"al{2}\"\n",
    "# [] A set of characters \"[a-m]\"\n",
    "# \\ Special sequence (or escape special characters) \"\\d\"\n",
    "# | Either or \"falls|stays\"\n",
    "# () Capture and group"
   ]
  },
  {
   "cell_type": "code",
   "execution_count": 131,
   "id": "c810dfea-6510-46f7-945e-8e4e8433e345",
   "metadata": {},
   "outputs": [],
   "source": [
    "# More Special Characters: CAPATIAL IS OPPOSIT \n",
    "\n",
    "#/d : Matches any decimal digit; [0-9]\n",
    "#/D : Matches any non-digit character;\n",
    "#/s : Matches Any whitespace character; (space \" \" tab \"\\t\" newline \"\\n\")\n",
    "#/S : Matches any non-whitespace character;\n",
    "#/w : Matches any alphanumeric (word) character; [a-z A-z 0-9 , _].\n",
    "#/W : Matches ay non-Alphanumeric character;\n",
    "#/b : Matches where the specified characters are at the beginning or at the end of a word r\"\\bain\" r\"ain\\b\"  BEGINING OF A BLOCK\n",
    "#/B : Matches where the specified character are present , but NOT at the beginning (or at the end) of a word r\"/Bain\" r\"ain/B\" WILL FIND NOT IN THE BEGINING OF THE BLOCK"
   ]
  },
  {
   "cell_type": "code",
   "execution_count": 132,
   "id": "24f8cc8f-6def-4076-8a47-01a9e62a700b",
   "metadata": {},
   "outputs": [
    {
     "name": "stdout",
     "output_type": "stream",
     "text": [
      "['hey']\n"
     ]
    }
   ],
   "source": [
    "# in detail\n",
    "test_string = \"hello 123_ heyho hohey\"\n",
    "# find the digit\n",
    "\n",
    "pattern = re.compile(r\"\\Bhey\")\n",
    "matches = pattern.findall(test_string)\n",
    "print(matches)"
   ]
  },
  {
   "cell_type": "code",
   "execution_count": 133,
   "id": "4837c8c3-c903-49f2-9ff0-848ebf67969f",
   "metadata": {},
   "outputs": [],
   "source": [
    "# SETS [a-bA-Z1-3] <-- is a range \n",
    "# SETs [aZ] <-- looking for a and Z"
   ]
  },
  {
   "cell_type": "code",
   "execution_count": 136,
   "id": "bcea26a3-c815-46a2-8a6e-89a83fd10067",
   "metadata": {},
   "outputs": [
    {
     "name": "stdout",
     "output_type": "stream",
     "text": [
      "h\n",
      "e\n",
      "l\n",
      "l\n",
      "o\n"
     ]
    }
   ],
   "source": [
    "test_string = \"hello 123_\"\n",
    "\n",
    "pattern = re.compile(r'[a-z]')\n",
    "matches = pattern.findall(test_string)\n",
    "\n",
    "for match in matches:\n",
    "    print(match)"
   ]
  },
  {
   "cell_type": "code",
   "execution_count": 288,
   "id": "39491d7e-91d2-434d-aea8-445f8d68d48c",
   "metadata": {},
   "outputs": [],
   "source": [
    "# Quantifier:\n",
    "# * : 0 or more\n",
    "# + : 1 or more\n",
    "# ? : 0 or more. -> optional character\n",
    "# {4} : exact number example: /d/d/d/d (only 4 digits)\n",
    "# {4,6} : range numbers (min, max) from 4-6 digits\n"
   ]
  },
  {
   "cell_type": "code",
   "execution_count": 289,
   "id": "f6e0f4a0-0ea4-4092-9b2f-a36354158c41",
   "metadata": {},
   "outputs": [
    {
     "name": "stdout",
     "output_type": "stream",
     "text": [
      "123\n"
     ]
    }
   ],
   "source": [
    "test_string = \"hello_123\"\n",
    "\n",
    "pattern = re.compile(r'\\d{3}')\n",
    "matches = pattern.findall(test_string)\n",
    "\n",
    "for match in matches:\n",
    "    print(match)"
   ]
  },
  {
   "cell_type": "code",
   "execution_count": 290,
   "id": "41ce2682-9388-4e4b-bf96-5bcf9f89e479",
   "metadata": {},
   "outputs": [],
   "source": [
    "#example"
   ]
  },
  {
   "cell_type": "code",
   "execution_count": 291,
   "id": "076f1160-7755-4bc0-a657-b798a1f59298",
   "metadata": {},
   "outputs": [],
   "source": [
    "dates = '''\n",
    "01.04.2020\n",
    "\n",
    "2020.04.01\n",
    "\n",
    "2020-04-01\n",
    "2020-05-23\n",
    "2020-06-11\n",
    "2020-07-11\n",
    "2020-08-11\n",
    "\n",
    "324 42 234 \n",
    "r3 243 543\n",
    "\n",
    "2020/04/02\n",
    "\n",
    "hello\n",
    "\n",
    "2020_04_04\n",
    "2020_04_04\n",
    "'''"
   ]
  },
  {
   "cell_type": "code",
   "execution_count": 292,
   "id": "d2f6e5ed-d50a-40e1-b32c-cbc9866ba88d",
   "metadata": {},
   "outputs": [
    {
     "name": "stdout",
     "output_type": "stream",
     "text": [
      "['01.04.2020', '2020.04.01', '2020-04-01', '2020-05-23', '2020-06-11', '2020-07-11', '2020-08-11', '2020/04/02', '2020_04_04', '2020_04_04']\n"
     ]
    }
   ],
   "source": [
    "# find all dates\n",
    "pattern = re.compile(r'\\d*[_?/?.?-]\\d*[_?/?.?-]\\d*')\n",
    "matches = pattern.findall(dates)\n",
    "print(matches)"
   ]
  },
  {
   "cell_type": "code",
   "execution_count": 293,
   "id": "035cddeb-e7e3-4d68-b3ed-8db6f0899153",
   "metadata": {},
   "outputs": [
    {
     "name": "stdout",
     "output_type": "stream",
     "text": [
      "['01.04.2020']\n"
     ]
    }
   ],
   "source": [
    "# ##.##.#### format\n",
    "\n",
    "pattern = re.compile(r'\\d\\d.\\d\\d.\\d\\d\\d\\d')\n",
    "matches = pattern.findall(dates)\n",
    "print(matches)"
   ]
  },
  {
   "cell_type": "code",
   "execution_count": 294,
   "id": "69b56fc0-7c22-4a78-ac9c-9c115a5b0fd1",
   "metadata": {},
   "outputs": [
    {
     "name": "stdout",
     "output_type": "stream",
     "text": [
      "['01.04.2020', '2020.04.01', '2020-04-01', '2020/04/02', '2020_04_04', '2020_04_04']\n"
     ]
    }
   ],
   "source": [
    "pattern = re.compile(r'\\d*[_?/?.?-]\\d*[04][_?/?.?-]\\d*')\n",
    "matches = pattern.findall(dates)\n",
    "print(matches)"
   ]
  },
  {
   "cell_type": "code",
   "execution_count": null,
   "id": "1a0c0f45-0e02-455a-ad23-b6da32f25525",
   "metadata": {},
   "outputs": [],
   "source": []
  },
  {
   "cell_type": "code",
   "execution_count": 295,
   "id": "2599b485-b25d-4c56-8a1e-13e6f7799c43",
   "metadata": {},
   "outputs": [],
   "source": [
    "# conditions"
   ]
  },
  {
   "cell_type": "code",
   "execution_count": 362,
   "id": "db81e6e9-1173-4271-bdb1-ba124734a0b9",
   "metadata": {},
   "outputs": [],
   "source": [
    "my_string = \"\"\"\n",
    "Mr Simpson\n",
    "Mrs Simpson\n",
    "Mr. Brown\n",
    "Ms Smith\n",
    "Mr. T\n",
    "Park Ave & Lex\n",
    "pythonengineer@gmail.com\n",
    "Python-engineer@gmx.de\n",
    "python-engineer123@my-domain.org\n",
    "\"\"\""
   ]
  },
  {
   "cell_type": "code",
   "execution_count": 363,
   "id": "5eca3dc6-3180-4f65-a2ef-1e46685b16ae",
   "metadata": {},
   "outputs": [
    {
     "name": "stdout",
     "output_type": "stream",
     "text": [
      "['Park Ave']\n"
     ]
    }
   ],
   "source": [
    "pattern = re.compile(r'\\w+[\\s][A]\\w*')\n",
    "matches = pattern.findall(my_string)\n",
    "print(matches)"
   ]
  },
  {
   "cell_type": "code",
   "execution_count": 364,
   "id": "e7cd66bf-6033-4823-a2cd-e0907f8886fa",
   "metadata": {},
   "outputs": [
    {
     "name": "stdout",
     "output_type": "stream",
     "text": [
      "['Mr Simpson', 'Mrs Simpson', 'Mr. Brown', 'Ms Smith', 'Mr. T']\n"
     ]
    }
   ],
   "source": [
    "pattern = re.compile(r'[M]\\w[\\w?.?]?\\s\\w+')\n",
    "matches = pattern.findall(my_string)\n",
    "print(matches)"
   ]
  },
  {
   "cell_type": "code",
   "execution_count": null,
   "id": "10f2ef16-27bd-4c29-825a-f014e486b53b",
   "metadata": {},
   "outputs": [],
   "source": []
  },
  {
   "cell_type": "code",
   "execution_count": 365,
   "id": "2f27c777-ec57-4f7b-85b9-480d14848676",
   "metadata": {},
   "outputs": [],
   "source": [
    "# Grouping\n",
    "# find all the emails and group them"
   ]
  },
  {
   "cell_type": "code",
   "execution_count": 415,
   "id": "de82632d-6f5f-4013-921f-5811b26d9b11",
   "metadata": {},
   "outputs": [
    {
     "name": "stdout",
     "output_type": "stream",
     "text": [
      "pythonengineer\n",
      "Python-engineer\n",
      "python-engineer123\n"
     ]
    }
   ],
   "source": [
    "\n",
    "pattern = re.compile(r'(\\w*-?\\w*)@(\\w*-?\\w*)(.\\w*)')\n",
    "matches = pattern.finditer(my_string)\n",
    "\n",
    "for match in matches:\n",
    "#     print(match.group(0))\n",
    "#     print(match.group(1))\n",
    "#     print(match.group(2))\n",
    "#     print(match.group(3))"
   ]
  },
  {
   "cell_type": "code",
   "execution_count": 416,
   "id": "f7c972f2-d694-4650-a2f6-5223c76c5822",
   "metadata": {},
   "outputs": [],
   "source": [
    "# Modification\n",
    "# TWO METHODS to modify a String\n",
    "# .split(), sib()\n",
    "# .split() will split a string into a list\n",
    "# .sub() will find all sub string and replaces it with another string"
   ]
  },
  {
   "cell_type": "code",
   "execution_count": 420,
   "id": "f80c2cb8-f38d-40aa-a552-f870ce3fa01a",
   "metadata": {},
   "outputs": [
    {
     "name": "stdout",
     "output_type": "stream",
     "text": [
      "['123', '456789', '123ABC']\n"
     ]
    }
   ],
   "source": [
    "# .split()\n",
    "test_string = \"123abc456789abc123ABC\"\n",
    "pattern = re.compile(r'abc')\n",
    "\n",
    "splitted = pattern.split(test_string)\n",
    "print(splitted)\n"
   ]
  },
  {
   "cell_type": "code",
   "execution_count": 422,
   "id": "0d2193a8-4cef-4c9a-9769-b11ff93b8096",
   "metadata": {},
   "outputs": [
    {
     "name": "stdout",
     "output_type": "stream",
     "text": [
      "Hello planet, you are the best planet\n"
     ]
    }
   ],
   "source": [
    "# .sub()\n",
    "test_string = \"Hello world, you are the best world\"\n",
    "\n",
    "pattern = re.compile(r'world')\n",
    "sub = pattern.sub(\"planet\", test_string)\n",
    "print(sub)"
   ]
  },
  {
   "cell_type": "code",
   "execution_count": 432,
   "id": "796ec1f2-9baf-4433-b89c-c1ac889d59e9",
   "metadata": {},
   "outputs": [
    {
     "name": "stdout",
     "output_type": "stream",
     "text": [
      "<re.Match object; span=(1, 27), match='http://python-engineer.com'>\n",
      "<re.Match object; span=(28, 59), match='https://www.python-engineer.org'>\n",
      "<re.Match object; span=(60, 80), match='http://www.pyeng.net'>\n",
      "\n",
      "python-engineer.com\n",
      "python-engineer.org\n",
      "pyeng.net\n",
      "\n"
     ]
    }
   ],
   "source": [
    "urls = \"\"\"\n",
    "http://python-engineer.com\n",
    "https://www.python-engineer.org\n",
    "http://www.pyeng.net\n",
    "\"\"\"\n",
    "\n",
    "pattern =re.compile(r'https?://(www\\.)?([a-zA-Z-]+)(\\.[a-zA-Z]+)')\n",
    "matches = pattern.finditer(urls)\n",
    "\n",
    "for match in matches:\n",
    "    print(match)\n",
    "    \n",
    "    \n",
    "sub_urls = pattern.sub(r'\\2\\3', urls)\n",
    "print(sub_urls)"
   ]
  },
  {
   "cell_type": "code",
   "execution_count": null,
   "id": "7c3b6d8e-dfe4-4ab9-8456-37e1fc523489",
   "metadata": {},
   "outputs": [],
   "source": [
    "#compulation flags\n",
    "\n",
    "# ASCII, A: Makes several escapes like \\w, \\d. \\s and \\d match only on ASCII characters\n",
    "# DOTALL, S: Makes . match any character, including newlines.\n",
    "# IGNORECASE, I: DO case-insensitive matches. ***IMPORTANT\n",
    "# LOCALE, L : Do a locale-aware match.\n",
    "# MULTILINE, M: Multi-line matching, affecting ^ and $.\n",
    "# VERBOSE, X (for ‘extended’) : Enable verbose REs, which can be organized more cleanly and understandably."
   ]
  },
  {
   "cell_type": "code",
   "execution_count": 433,
   "id": "5ef5b499-c8aa-4b31-b973-68fa4cbee16c",
   "metadata": {},
   "outputs": [
    {
     "name": "stdout",
     "output_type": "stream",
     "text": [
      "<re.Match object; span=(6, 11), match='World'>\n",
      "<re.Match object; span=(1, 2), match='h'>\n",
      "<re.Match object; span=(7, 8), match='c'>\n"
     ]
    }
   ],
   "source": [
    "my_string = \"Hello World\"\n",
    "pattern = re.compile(r'world', re.IGNORECASE) # No match without I flag\n",
    "matches = pattern.finditer(my_string)\n",
    "for match in matches:\n",
    "    print(match)\n",
    "\n",
    "my_string = '''\n",
    "hello\n",
    "cool\n",
    "Hello\n",
    "'''\n",
    "# line starts with ...\n",
    "pattern = re.compile(r'^[a-z]', re.MULTILINE) # No match without M flag\n",
    "matches = pattern.finditer(my_string)\n",
    "for match in matches:\n",
    "    print(match)"
   ]
  },
  {
   "cell_type": "code",
   "execution_count": null,
   "id": "19d43cec-bf6d-489f-a7b6-40dd88cad40a",
   "metadata": {},
   "outputs": [],
   "source": []
  }
 ],
 "metadata": {
  "kernelspec": {
   "display_name": "Python 3",
   "language": "python",
   "name": "python3"
  },
  "language_info": {
   "codemirror_mode": {
    "name": "ipython",
    "version": 3
   },
   "file_extension": ".py",
   "mimetype": "text/x-python",
   "name": "python",
   "nbconvert_exporter": "python",
   "pygments_lexer": "ipython3",
   "version": "3.8.8"
  }
 },
 "nbformat": 4,
 "nbformat_minor": 5
}
