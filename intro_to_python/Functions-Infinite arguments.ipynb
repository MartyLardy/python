{
 "cells": [
  {
   "cell_type": "markdown",
   "id": "bedc3782",
   "metadata": {},
   "source": [
    "# Infinite Arguments uses *"
   ]
  },
  {
   "cell_type": "code",
   "execution_count": 45,
   "id": "60ca31f4",
   "metadata": {},
   "outputs": [],
   "source": [
    "def my_function(*programs):\n",
    "    for program in programs:\n",
    "        print(f\"my list of programs: {program} \\n\")"
   ]
  },
  {
   "cell_type": "code",
   "execution_count": 46,
   "id": "0ee309ee",
   "metadata": {},
   "outputs": [
    {
     "name": "stdout",
     "output_type": "stream",
     "text": [
      "my list of programs: c++, c, java, java script \n",
      "\n"
     ]
    }
   ],
   "source": [
    "my_function(\"c++, c, java, java script\")"
   ]
  },
  {
   "cell_type": "code",
   "execution_count": 40,
   "id": "bca29657",
   "metadata": {},
   "outputs": [
    {
     "data": {
      "text/plain": [
       "function"
      ]
     },
     "execution_count": 40,
     "metadata": {},
     "output_type": "execute_result"
    }
   ],
   "source": [
    "type(my_function)"
   ]
  },
  {
   "cell_type": "markdown",
   "id": "56d7c601",
   "metadata": {},
   "source": [
    "## Return functions"
   ]
  },
  {
   "cell_type": "code",
   "execution_count": 47,
   "id": "b24635b3",
   "metadata": {},
   "outputs": [],
   "source": [
    "def do_math(num1, num2):\n",
    "    return num1 + num2\n"
   ]
  },
  {
   "cell_type": "code",
   "execution_count": 48,
   "id": "fce3e5cf",
   "metadata": {},
   "outputs": [
    {
     "data": {
      "text/plain": [
       "12"
      ]
     },
     "execution_count": 48,
     "metadata": {},
     "output_type": "execute_result"
    }
   ],
   "source": [
    "do_math(5,7)"
   ]
  },
  {
   "cell_type": "code",
   "execution_count": null,
   "id": "29281ce6",
   "metadata": {},
   "outputs": [],
   "source": []
  }
 ],
 "metadata": {
  "kernelspec": {
   "display_name": "Python 3 (ipykernel)",
   "language": "python",
   "name": "python3"
  },
  "language_info": {
   "codemirror_mode": {
    "name": "ipython",
    "version": 3
   },
   "file_extension": ".py",
   "mimetype": "text/x-python",
   "name": "python",
   "nbconvert_exporter": "python",
   "pygments_lexer": "ipython3",
   "version": "3.8.12"
  }
 },
 "nbformat": 4,
 "nbformat_minor": 5
}
