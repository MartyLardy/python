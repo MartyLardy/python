{
 "cells": [
  {
   "cell_type": "markdown",
   "id": "c40e327b",
   "metadata": {},
   "source": [
    "# Python"
   ]
  },
  {
   "cell_type": "markdown",
   "id": "0ad67130",
   "metadata": {},
   "source": [
    "## Lambda Function<br>\n",
    "### - A simple 1-line function<br>\n",
    "### - Do not use def or return keywords. <br>\n",
    "###   These are implicit\n",
    "\n"
   ]
  },
  {
   "cell_type": "code",
   "execution_count": 1,
   "id": "0293307d",
   "metadata": {},
   "outputs": [],
   "source": [
    "# traditional one variable function\n",
    "def double(x):\n",
    "    return x*2"
   ]
  },
  {
   "cell_type": "code",
   "execution_count": 2,
   "id": "07968acb",
   "metadata": {},
   "outputs": [
    {
     "data": {
      "text/plain": [
       "6"
      ]
     },
     "execution_count": 2,
     "metadata": {},
     "output_type": "execute_result"
    }
   ],
   "source": [
    "# run double function\n",
    "double(3)"
   ]
  },
  {
   "cell_type": "code",
   "execution_count": 6,
   "id": "6f767f64",
   "metadata": {},
   "outputs": [
    {
     "data": {
      "text/plain": [
       "<function __main__.<lambda>(x)>"
      ]
     },
     "execution_count": 6,
     "metadata": {},
     "output_type": "execute_result"
    }
   ],
   "source": [
    "# Lambda single variable function\n",
    "lambda x:2*x # 2*x is the return"
   ]
  },
  {
   "cell_type": "code",
   "execution_count": 7,
   "id": "bbd27493",
   "metadata": {},
   "outputs": [
    {
     "data": {
      "text/plain": [
       "5"
      ]
     },
     "execution_count": 7,
     "metadata": {},
     "output_type": "execute_result"
    }
   ],
   "source": [
    "# Traditional Double Variable Function\n",
    "def add(x, y):\n",
    "    return x+y\n",
    "add(3,2)"
   ]
  },
  {
   "cell_type": "code",
   "execution_count": 8,
   "id": "e9ae6285",
   "metadata": {},
   "outputs": [
    {
     "data": {
      "text/plain": [
       "<function __main__.<lambda>(x, y)>"
      ]
     },
     "execution_count": 8,
     "metadata": {},
     "output_type": "execute_result"
    }
   ],
   "source": [
    "# Lambda Double Variable Function\n",
    "\n",
    "lambda x,y:x+y"
   ]
  },
  {
   "cell_type": "code",
   "execution_count": 10,
   "id": "e2ad19ee",
   "metadata": {},
   "outputs": [
    {
     "name": "stdout",
     "output_type": "stream",
     "text": [
      "6\n"
     ]
    }
   ],
   "source": [
    "# Traditional Multi Variable Function\n",
    "\n",
    "def mx(x,y):\n",
    "    if x > y:\n",
    "        return x\n",
    "    else:\n",
    "        return y\n",
    "print(mx(3,6))"
   ]
  },
  {
   "cell_type": "code",
   "execution_count": 11,
   "id": "707366d9",
   "metadata": {},
   "outputs": [
    {
     "data": {
      "text/plain": [
       "<function __main__.<lambda>(x, y)>"
      ]
     },
     "execution_count": 11,
     "metadata": {},
     "output_type": "execute_result"
    }
   ],
   "source": [
    "# Lambda multi variable function\n",
    "lambda x,y: x if x>y else y"
   ]
  },
  {
   "cell_type": "markdown",
   "id": "0b41fb11",
   "metadata": {},
   "source": [
    "## map<br>\n",
    "<code>.map()</code>\n",
    "### - Apply same function to each element of a sequence\n",
    "### - Return the modified list"
   ]
  },
  {
   "cell_type": "code",
   "execution_count": 12,
   "id": "dc980b7f",
   "metadata": {},
   "outputs": [],
   "source": [
    "#Concept\n",
    "# List, [m,n,p]\n",
    "# Function, f()  ->    [MAP]   ->    New list, [f(m), f(n), f(p)]"
   ]
  },
  {
   "cell_type": "code",
   "execution_count": 22,
   "id": "a34f763d",
   "metadata": {},
   "outputs": [
    {
     "name": "stdout",
     "output_type": "stream",
     "text": [
      "[16, 9, 4, 1]\n"
     ]
    }
   ],
   "source": [
    "# Traditional Function\n",
    "# prints [16,9,4,1]\n",
    "def square(lst1):\n",
    "    lst2 = []\n",
    "    for num in lst1:\n",
    "        lst2.append(num**2)\n",
    "    return lst2\n",
    "print(square([4,3,2,1]))"
   ]
  },
  {
   "cell_type": "code",
   "execution_count": 23,
   "id": "684e4717",
   "metadata": {},
   "outputs": [
    {
     "name": "stdout",
     "output_type": "stream",
     "text": [
      "[16, 9, 4, 1]\n"
     ]
    }
   ],
   "source": [
    "# using lambda\n",
    "n = [4,3,2,1]\n",
    "print(list(map(lambda x:x**2,n)))"
   ]
  },
  {
   "cell_type": "code",
   "execution_count": 33,
   "id": "a3a51cc3",
   "metadata": {},
   "outputs": [
    {
     "name": "stdout",
     "output_type": "stream",
     "text": [
      "[16, 9, 4, 1]\n"
     ]
    }
   ],
   "source": [
    "# list comprehension solution:\n",
    "\n",
    "print([x**2 for x in n])"
   ]
  },
  {
   "cell_type": "markdown",
   "id": "bbc8a7b7",
   "metadata": {},
   "source": [
    "## Filter\n",
    "### - Filter items out of a sequence\n",
    "### Return Filtered List\n"
   ]
  },
  {
   "cell_type": "code",
   "execution_count": 35,
   "id": "84ab93eb",
   "metadata": {},
   "outputs": [],
   "source": [
    "#List, [m,n,p]      -> filter ->  New list , [m,n]\n",
    "#Condition, c()\n",
    "\n",
    "#                  if (m==condition)"
   ]
  },
  {
   "cell_type": "code",
   "execution_count": 37,
   "id": "6df1c21b",
   "metadata": {},
   "outputs": [
    {
     "name": "stdout",
     "output_type": "stream",
     "text": [
      "[4, 3]\n"
     ]
    }
   ],
   "source": [
    "# prints[4,3]\n",
    "\n",
    "def over_two(lst1):\n",
    "    lst2 = [x for x in lst1 if x > 2]\n",
    "    return lst2\n",
    "print(over_two([4,3,2,1]))"
   ]
  },
  {
   "cell_type": "code",
   "execution_count": 39,
   "id": "97e2e5f4",
   "metadata": {},
   "outputs": [
    {
     "name": "stdout",
     "output_type": "stream",
     "text": [
      "[4, 3]\n"
     ]
    }
   ],
   "source": [
    "# lambda\n",
    "n = [4,3,2,1]\n",
    "print(list(filter(lambda x:x>2,n)))"
   ]
  },
  {
   "cell_type": "markdown",
   "id": "cc6ed3e7",
   "metadata": {},
   "source": [
    "## Reduce\n",
    "### -Applies same opearation to items of a sequence\n",
    "### -Uses result of operations as first param of next operation\n",
    "### -Returns an item, not a list\n"
   ]
  },
  {
   "cell_type": "code",
   "execution_count": 40,
   "id": "bc6ba7c8",
   "metadata": {},
   "outputs": [],
   "source": [
    "# List, [m,n,p]\n",
    "# Function , f()    ->   reduce ->  f(f(m,n),p)"
   ]
  },
  {
   "cell_type": "code",
   "execution_count": 42,
   "id": "cab91399",
   "metadata": {},
   "outputs": [
    {
     "name": "stdout",
     "output_type": "stream",
     "text": [
      "24\n"
     ]
    }
   ],
   "source": [
    "# traditional function\n",
    "\n",
    "def mult(lst1):\n",
    "    prod = lst1[0]\n",
    "    for i in range(1,len(lst1)):\n",
    "        prod *= lst1[i]\n",
    "    return prod\n",
    "\n",
    "print(mult([4,3,2,1]))"
   ]
  },
  {
   "cell_type": "code",
   "execution_count": 48,
   "id": "605dd13a",
   "metadata": {},
   "outputs": [
    {
     "name": "stdout",
     "output_type": "stream",
     "text": [
      "24\n"
     ]
    }
   ],
   "source": [
    "from functools import reduce\n",
    "\n",
    "n = [4,3,2,1]\n",
    "print(reduce(lambda x,y:x*y, n))"
   ]
  },
  {
   "cell_type": "code",
   "execution_count": 49,
   "id": "8ed9e084",
   "metadata": {},
   "outputs": [],
   "source": [
    "# 4*3 = 12\n",
    "# 12 *2 = 24\n",
    "# 24 *1 = 24"
   ]
  },
  {
   "cell_type": "code",
   "execution_count": null,
   "id": "7099d0d1",
   "metadata": {},
   "outputs": [],
   "source": []
  }
 ],
 "metadata": {
  "kernelspec": {
   "display_name": "Python 3 (ipykernel)",
   "language": "python",
   "name": "python3"
  },
  "language_info": {
   "codemirror_mode": {
    "name": "ipython",
    "version": 3
   },
   "file_extension": ".py",
   "mimetype": "text/x-python",
   "name": "python",
   "nbconvert_exporter": "python",
   "pygments_lexer": "ipython3",
   "version": "3.10.0"
  }
 },
 "nbformat": 4,
 "nbformat_minor": 5
}
