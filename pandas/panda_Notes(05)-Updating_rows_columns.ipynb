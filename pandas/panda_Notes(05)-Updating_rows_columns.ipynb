{
 "cells": [
  {
   "cell_type": "markdown",
   "id": "155c3b49-9287-450a-af24-837186bdd903",
   "metadata": {},
   "source": [
    "# Python Pandas Tutorial (part 5): Updating Rows and Columns \n",
    "# Modifying data with Dataframes"
   ]
  },
  {
   "cell_type": "code",
   "execution_count": 62,
   "id": "2a249ccc-31b9-462d-b23d-fe907aac9e98",
   "metadata": {},
   "outputs": [],
   "source": [
    "people ={\n",
    "    \"first\": [\"corey\", \"jane\", \"john\"],\n",
    "    \"last\": [\"schafer\", \"doe\", \"doe\"],\n",
    "    \"email\": [\"coreyschafer@gmail.com\", \"janedoe@email.com\", \"johndoe@email.com\"]\n",
    "}"
   ]
  },
  {
   "cell_type": "code",
   "execution_count": 63,
   "id": "b85d4e4e-de90-402d-8cd3-fb438e236249",
   "metadata": {},
   "outputs": [],
   "source": [
    "import pandas as pd\n",
    "\n",
    "df = pd.DataFrame(people)"
   ]
  },
  {
   "cell_type": "markdown",
   "id": "99259b36",
   "metadata": {},
   "source": [
    "### Modify the columns"
   ]
  },
  {
   "cell_type": "markdown",
   "id": "4579c9d5",
   "metadata": {},
   "source": [
    "#### This changes all the columns"
   ]
  },
  {
   "cell_type": "code",
   "execution_count": 64,
   "id": "7678486f-e336-446a-9533-fb81ff06afea",
   "metadata": {},
   "outputs": [
    {
     "data": {
      "text/html": [
       "<div>\n",
       "<style scoped>\n",
       "    .dataframe tbody tr th:only-of-type {\n",
       "        vertical-align: middle;\n",
       "    }\n",
       "\n",
       "    .dataframe tbody tr th {\n",
       "        vertical-align: top;\n",
       "    }\n",
       "\n",
       "    .dataframe thead th {\n",
       "        text-align: right;\n",
       "    }\n",
       "</style>\n",
       "<table border=\"1\" class=\"dataframe\">\n",
       "  <thead>\n",
       "    <tr style=\"text-align: right;\">\n",
       "      <th></th>\n",
       "      <th>first_name</th>\n",
       "      <th>last_name</th>\n",
       "      <th>email</th>\n",
       "    </tr>\n",
       "  </thead>\n",
       "  <tbody>\n",
       "    <tr>\n",
       "      <th>0</th>\n",
       "      <td>corey</td>\n",
       "      <td>schafer</td>\n",
       "      <td>coreyschafer@gmail.com</td>\n",
       "    </tr>\n",
       "    <tr>\n",
       "      <th>1</th>\n",
       "      <td>jane</td>\n",
       "      <td>doe</td>\n",
       "      <td>janedoe@email.com</td>\n",
       "    </tr>\n",
       "    <tr>\n",
       "      <th>2</th>\n",
       "      <td>john</td>\n",
       "      <td>doe</td>\n",
       "      <td>johndoe@email.com</td>\n",
       "    </tr>\n",
       "  </tbody>\n",
       "</table>\n",
       "</div>"
      ],
      "text/plain": [
       "  first_name last_name                   email\n",
       "0      corey   schafer  coreyschafer@gmail.com\n",
       "1       jane       doe       janedoe@email.com\n",
       "2       john       doe       johndoe@email.com"
      ]
     },
     "execution_count": 64,
     "metadata": {},
     "output_type": "execute_result"
    }
   ],
   "source": [
    "\n",
    "df.columns = [\"first_name\", \"last_name\", \"email\"]\n",
    "df"
   ]
  },
  {
   "cell_type": "markdown",
   "id": "7f753d22",
   "metadata": {},
   "source": [
    "#### List comprihension.  \n",
    "to upper <code> .upper() .lower()</code>"
   ]
  },
  {
   "cell_type": "code",
   "execution_count": 65,
   "id": "fe5caa77-9e04-403d-8323-b2e54435f7e9",
   "metadata": {},
   "outputs": [
    {
     "data": {
      "text/html": [
       "<div>\n",
       "<style scoped>\n",
       "    .dataframe tbody tr th:only-of-type {\n",
       "        vertical-align: middle;\n",
       "    }\n",
       "\n",
       "    .dataframe tbody tr th {\n",
       "        vertical-align: top;\n",
       "    }\n",
       "\n",
       "    .dataframe thead th {\n",
       "        text-align: right;\n",
       "    }\n",
       "</style>\n",
       "<table border=\"1\" class=\"dataframe\">\n",
       "  <thead>\n",
       "    <tr style=\"text-align: right;\">\n",
       "      <th></th>\n",
       "      <th>FIRST_NAME</th>\n",
       "      <th>LAST_NAME</th>\n",
       "      <th>EMAIL</th>\n",
       "    </tr>\n",
       "  </thead>\n",
       "  <tbody>\n",
       "    <tr>\n",
       "      <th>0</th>\n",
       "      <td>corey</td>\n",
       "      <td>schafer</td>\n",
       "      <td>coreyschafer@gmail.com</td>\n",
       "    </tr>\n",
       "    <tr>\n",
       "      <th>1</th>\n",
       "      <td>jane</td>\n",
       "      <td>doe</td>\n",
       "      <td>janedoe@email.com</td>\n",
       "    </tr>\n",
       "    <tr>\n",
       "      <th>2</th>\n",
       "      <td>john</td>\n",
       "      <td>doe</td>\n",
       "      <td>johndoe@email.com</td>\n",
       "    </tr>\n",
       "  </tbody>\n",
       "</table>\n",
       "</div>"
      ],
      "text/plain": [
       "  FIRST_NAME LAST_NAME                   EMAIL\n",
       "0      corey   schafer  coreyschafer@gmail.com\n",
       "1       jane       doe       janedoe@email.com\n",
       "2       john       doe       johndoe@email.com"
      ]
     },
     "execution_count": 65,
     "metadata": {},
     "output_type": "execute_result"
    }
   ],
   "source": [
    "df.columns = [x.upper() for x in df.columns]\n",
    "df"
   ]
  },
  {
   "cell_type": "markdown",
   "id": "9dab3bbc",
   "metadata": {},
   "source": [
    "using <code>.replace(x,x1)</code>"
   ]
  },
  {
   "cell_type": "code",
   "execution_count": 66,
   "id": "0e7e08bf-b29d-4770-91e5-ce9e560f02ed",
   "metadata": {},
   "outputs": [
    {
     "data": {
      "text/html": [
       "<div>\n",
       "<style scoped>\n",
       "    .dataframe tbody tr th:only-of-type {\n",
       "        vertical-align: middle;\n",
       "    }\n",
       "\n",
       "    .dataframe tbody tr th {\n",
       "        vertical-align: top;\n",
       "    }\n",
       "\n",
       "    .dataframe thead th {\n",
       "        text-align: right;\n",
       "    }\n",
       "</style>\n",
       "<table border=\"1\" class=\"dataframe\">\n",
       "  <thead>\n",
       "    <tr style=\"text-align: right;\">\n",
       "      <th></th>\n",
       "      <th>FIRST_NAME</th>\n",
       "      <th>LAST_NAME</th>\n",
       "      <th>EMAIL</th>\n",
       "    </tr>\n",
       "  </thead>\n",
       "  <tbody>\n",
       "    <tr>\n",
       "      <th>0</th>\n",
       "      <td>corey</td>\n",
       "      <td>schafer</td>\n",
       "      <td>coreyschafer@gmail.com</td>\n",
       "    </tr>\n",
       "    <tr>\n",
       "      <th>1</th>\n",
       "      <td>jane</td>\n",
       "      <td>doe</td>\n",
       "      <td>janedoe@email.com</td>\n",
       "    </tr>\n",
       "    <tr>\n",
       "      <th>2</th>\n",
       "      <td>john</td>\n",
       "      <td>doe</td>\n",
       "      <td>johndoe@email.com</td>\n",
       "    </tr>\n",
       "  </tbody>\n",
       "</table>\n",
       "</div>"
      ],
      "text/plain": [
       "  FIRST_NAME LAST_NAME                   EMAIL\n",
       "0      corey   schafer  coreyschafer@gmail.com\n",
       "1       jane       doe       janedoe@email.com\n",
       "2       john       doe       johndoe@email.com"
      ]
     },
     "execution_count": 66,
     "metadata": {},
     "output_type": "execute_result"
    }
   ],
   "source": [
    "df.columns = df.columns.str.replace(\" \", \"_\")\n",
    "df"
   ]
  },
  {
   "cell_type": "markdown",
   "id": "d8cb262d",
   "metadata": {},
   "source": [
    "#### How to only change 'SOME COLUMNS'"
   ]
  },
  {
   "cell_type": "code",
   "execution_count": 67,
   "id": "50970daf",
   "metadata": {},
   "outputs": [
    {
     "data": {
      "text/html": [
       "<div>\n",
       "<style scoped>\n",
       "    .dataframe tbody tr th:only-of-type {\n",
       "        vertical-align: middle;\n",
       "    }\n",
       "\n",
       "    .dataframe tbody tr th {\n",
       "        vertical-align: top;\n",
       "    }\n",
       "\n",
       "    .dataframe thead th {\n",
       "        text-align: right;\n",
       "    }\n",
       "</style>\n",
       "<table border=\"1\" class=\"dataframe\">\n",
       "  <thead>\n",
       "    <tr style=\"text-align: right;\">\n",
       "      <th></th>\n",
       "      <th>first</th>\n",
       "      <th>last</th>\n",
       "      <th>EMAIL</th>\n",
       "    </tr>\n",
       "  </thead>\n",
       "  <tbody>\n",
       "    <tr>\n",
       "      <th>0</th>\n",
       "      <td>corey</td>\n",
       "      <td>schafer</td>\n",
       "      <td>coreyschafer@gmail.com</td>\n",
       "    </tr>\n",
       "    <tr>\n",
       "      <th>1</th>\n",
       "      <td>jane</td>\n",
       "      <td>doe</td>\n",
       "      <td>janedoe@email.com</td>\n",
       "    </tr>\n",
       "    <tr>\n",
       "      <th>2</th>\n",
       "      <td>john</td>\n",
       "      <td>doe</td>\n",
       "      <td>johndoe@email.com</td>\n",
       "    </tr>\n",
       "  </tbody>\n",
       "</table>\n",
       "</div>"
      ],
      "text/plain": [
       "   first     last                   EMAIL\n",
       "0  corey  schafer  coreyschafer@gmail.com\n",
       "1   jane      doe       janedoe@email.com\n",
       "2   john      doe       johndoe@email.com"
      ]
     },
     "execution_count": 67,
     "metadata": {},
     "output_type": "execute_result"
    }
   ],
   "source": [
    "df.rename(columns={\"FIRST_NAME\":\"first\", \"LAST_NAME\": \"last\"}, inplace = True)\n",
    "df"
   ]
  },
  {
   "cell_type": "markdown",
   "id": "ab204f12",
   "metadata": {},
   "source": [
    "### Update the data in the ROWS"
   ]
  },
  {
   "cell_type": "markdown",
   "id": "1abfc429",
   "metadata": {},
   "source": [
    "#### How to update a single value?"
   ]
  },
  {
   "cell_type": "code",
   "execution_count": 68,
   "id": "1e966851",
   "metadata": {},
   "outputs": [
    {
     "data": {
      "text/plain": [
       "first                 john\n",
       "last                   doe\n",
       "EMAIL    johndoe@email.com\n",
       "Name: 2, dtype: object"
      ]
     },
     "execution_count": 68,
     "metadata": {},
     "output_type": "execute_result"
    }
   ],
   "source": [
    "#lets grab the row 2. Use the index\n",
    "df.loc[2]"
   ]
  },
  {
   "cell_type": "code",
   "execution_count": 69,
   "id": "b9345aef",
   "metadata": {},
   "outputs": [
    {
     "data": {
      "text/html": [
       "<div>\n",
       "<style scoped>\n",
       "    .dataframe tbody tr th:only-of-type {\n",
       "        vertical-align: middle;\n",
       "    }\n",
       "\n",
       "    .dataframe tbody tr th {\n",
       "        vertical-align: top;\n",
       "    }\n",
       "\n",
       "    .dataframe thead th {\n",
       "        text-align: right;\n",
       "    }\n",
       "</style>\n",
       "<table border=\"1\" class=\"dataframe\">\n",
       "  <thead>\n",
       "    <tr style=\"text-align: right;\">\n",
       "      <th></th>\n",
       "      <th>first</th>\n",
       "      <th>last</th>\n",
       "      <th>EMAIL</th>\n",
       "    </tr>\n",
       "  </thead>\n",
       "  <tbody>\n",
       "    <tr>\n",
       "      <th>0</th>\n",
       "      <td>corey</td>\n",
       "      <td>schafer</td>\n",
       "      <td>coreyschafer@gmail.com</td>\n",
       "    </tr>\n",
       "    <tr>\n",
       "      <th>1</th>\n",
       "      <td>jane</td>\n",
       "      <td>doe</td>\n",
       "      <td>janedoe@email.com</td>\n",
       "    </tr>\n",
       "    <tr>\n",
       "      <th>2</th>\n",
       "      <td>John</td>\n",
       "      <td>Smith</td>\n",
       "      <td>JohnSMith@gmail.com</td>\n",
       "    </tr>\n",
       "  </tbody>\n",
       "</table>\n",
       "</div>"
      ],
      "text/plain": [
       "   first     last                   EMAIL\n",
       "0  corey  schafer  coreyschafer@gmail.com\n",
       "1   jane      doe       janedoe@email.com\n",
       "2   John    Smith     JohnSMith@gmail.com"
      ]
     },
     "execution_count": 69,
     "metadata": {},
     "output_type": "execute_result"
    }
   ],
   "source": [
    "df.loc[2] = [\"John\", \"Smith\", \"JohnSMith@gmail.com\"]\n",
    "df"
   ]
  },
  {
   "cell_type": "markdown",
   "id": "cabc65e9",
   "metadata": {},
   "source": [
    "#### find the position\n"
   ]
  },
  {
   "cell_type": "code",
   "execution_count": 70,
   "id": "b018522f",
   "metadata": {},
   "outputs": [
    {
     "data": {
      "text/html": [
       "<div>\n",
       "<style scoped>\n",
       "    .dataframe tbody tr th:only-of-type {\n",
       "        vertical-align: middle;\n",
       "    }\n",
       "\n",
       "    .dataframe tbody tr th {\n",
       "        vertical-align: top;\n",
       "    }\n",
       "\n",
       "    .dataframe thead th {\n",
       "        text-align: right;\n",
       "    }\n",
       "</style>\n",
       "<table border=\"1\" class=\"dataframe\">\n",
       "  <thead>\n",
       "    <tr style=\"text-align: right;\">\n",
       "      <th></th>\n",
       "      <th>first</th>\n",
       "      <th>last</th>\n",
       "      <th>EMAIL</th>\n",
       "    </tr>\n",
       "  </thead>\n",
       "  <tbody>\n",
       "    <tr>\n",
       "      <th>0</th>\n",
       "      <td>corey</td>\n",
       "      <td>schafer</td>\n",
       "      <td>coreyschafer@gmail.com</td>\n",
       "    </tr>\n",
       "    <tr>\n",
       "      <th>1</th>\n",
       "      <td>jane</td>\n",
       "      <td>Doe</td>\n",
       "      <td>JaneDoe@Gmail.com</td>\n",
       "    </tr>\n",
       "    <tr>\n",
       "      <th>2</th>\n",
       "      <td>John</td>\n",
       "      <td>Smith</td>\n",
       "      <td>JohnSMith@gmail.com</td>\n",
       "    </tr>\n",
       "  </tbody>\n",
       "</table>\n",
       "</div>"
      ],
      "text/plain": [
       "   first     last                   EMAIL\n",
       "0  corey  schafer  coreyschafer@gmail.com\n",
       "1   jane      Doe       JaneDoe@Gmail.com\n",
       "2   John    Smith     JohnSMith@gmail.com"
      ]
     },
     "execution_count": 70,
     "metadata": {},
     "output_type": "execute_result"
    }
   ],
   "source": [
    "df.loc[1,['last',\"EMAIL\"]] = (\"Doe\", \"JaneDoe@Gmail.com\")\n",
    "df"
   ]
  },
  {
   "cell_type": "code",
   "execution_count": 71,
   "id": "547ef1ad",
   "metadata": {},
   "outputs": [
    {
     "data": {
      "text/html": [
       "<div>\n",
       "<style scoped>\n",
       "    .dataframe tbody tr th:only-of-type {\n",
       "        vertical-align: middle;\n",
       "    }\n",
       "\n",
       "    .dataframe tbody tr th {\n",
       "        vertical-align: top;\n",
       "    }\n",
       "\n",
       "    .dataframe thead th {\n",
       "        text-align: right;\n",
       "    }\n",
       "</style>\n",
       "<table border=\"1\" class=\"dataframe\">\n",
       "  <thead>\n",
       "    <tr style=\"text-align: right;\">\n",
       "      <th></th>\n",
       "      <th>first</th>\n",
       "      <th>last</th>\n",
       "      <th>EMAIL</th>\n",
       "    </tr>\n",
       "  </thead>\n",
       "  <tbody>\n",
       "    <tr>\n",
       "      <th>0</th>\n",
       "      <td>corey</td>\n",
       "      <td>schafer</td>\n",
       "      <td>coreyschafer@gmail.com</td>\n",
       "    </tr>\n",
       "    <tr>\n",
       "      <th>1</th>\n",
       "      <td>jane</td>\n",
       "      <td>Doe</td>\n",
       "      <td>JaneDoe@Gmail.com</td>\n",
       "    </tr>\n",
       "    <tr>\n",
       "      <th>2</th>\n",
       "      <td>John</td>\n",
       "      <td>Doe</td>\n",
       "      <td>JohnSMith@gmail.com</td>\n",
       "    </tr>\n",
       "  </tbody>\n",
       "</table>\n",
       "</div>"
      ],
      "text/plain": [
       "   first     last                   EMAIL\n",
       "0  corey  schafer  coreyschafer@gmail.com\n",
       "1   jane      Doe       JaneDoe@Gmail.com\n",
       "2   John      Doe     JohnSMith@gmail.com"
      ]
     },
     "execution_count": 71,
     "metadata": {},
     "output_type": "execute_result"
    }
   ],
   "source": [
    "df.loc[2,\"last\"] = \"Doe\"\n",
    "df"
   ]
  },
  {
   "cell_type": "markdown",
   "id": "56856606",
   "metadata": {},
   "source": [
    "#### To change a single option, we can use the <code>.at()</code> method \n",
    "(not sure why people use this). Use loc and iloc(interger location)"
   ]
  },
  {
   "cell_type": "code",
   "execution_count": 72,
   "id": "2caab2a9",
   "metadata": {},
   "outputs": [
    {
     "data": {
      "text/html": [
       "<div>\n",
       "<style scoped>\n",
       "    .dataframe tbody tr th:only-of-type {\n",
       "        vertical-align: middle;\n",
       "    }\n",
       "\n",
       "    .dataframe tbody tr th {\n",
       "        vertical-align: top;\n",
       "    }\n",
       "\n",
       "    .dataframe thead th {\n",
       "        text-align: right;\n",
       "    }\n",
       "</style>\n",
       "<table border=\"1\" class=\"dataframe\">\n",
       "  <thead>\n",
       "    <tr style=\"text-align: right;\">\n",
       "      <th></th>\n",
       "      <th>first</th>\n",
       "      <th>last</th>\n",
       "      <th>EMAIL</th>\n",
       "    </tr>\n",
       "  </thead>\n",
       "  <tbody>\n",
       "    <tr>\n",
       "      <th>0</th>\n",
       "      <td>corey</td>\n",
       "      <td>schafer</td>\n",
       "      <td>coreyschafer@gmail.com</td>\n",
       "    </tr>\n",
       "    <tr>\n",
       "      <th>1</th>\n",
       "      <td>jane</td>\n",
       "      <td>doe</td>\n",
       "      <td>JaneDoe@Gmail.com</td>\n",
       "    </tr>\n",
       "    <tr>\n",
       "      <th>2</th>\n",
       "      <td>John</td>\n",
       "      <td>Doe</td>\n",
       "      <td>JohnSMith@gmail.com</td>\n",
       "    </tr>\n",
       "  </tbody>\n",
       "</table>\n",
       "</div>"
      ],
      "text/plain": [
       "   first     last                   EMAIL\n",
       "0  corey  schafer  coreyschafer@gmail.com\n",
       "1   jane      doe       JaneDoe@Gmail.com\n",
       "2   John      Doe     JohnSMith@gmail.com"
      ]
     },
     "execution_count": 72,
     "metadata": {},
     "output_type": "execute_result"
    }
   ],
   "source": [
    "df.at[1, \"last\"] = \"doe\"\n",
    "df"
   ]
  },
  {
   "cell_type": "markdown",
   "id": "ee43d671",
   "metadata": {},
   "source": [
    "### Warnings. "
   ]
  },
  {
   "cell_type": "code",
   "execution_count": 73,
   "id": "aadbca4c",
   "metadata": {},
   "outputs": [
    {
     "data": {
      "text/html": [
       "<div>\n",
       "<style scoped>\n",
       "    .dataframe tbody tr th:only-of-type {\n",
       "        vertical-align: middle;\n",
       "    }\n",
       "\n",
       "    .dataframe tbody tr th {\n",
       "        vertical-align: top;\n",
       "    }\n",
       "\n",
       "    .dataframe thead th {\n",
       "        text-align: right;\n",
       "    }\n",
       "</style>\n",
       "<table border=\"1\" class=\"dataframe\">\n",
       "  <thead>\n",
       "    <tr style=\"text-align: right;\">\n",
       "      <th></th>\n",
       "      <th>first</th>\n",
       "      <th>last</th>\n",
       "      <th>EMAIL</th>\n",
       "    </tr>\n",
       "  </thead>\n",
       "  <tbody>\n",
       "    <tr>\n",
       "      <th>1</th>\n",
       "      <td>jane</td>\n",
       "      <td>doe</td>\n",
       "      <td>JaneDoe@Gmail.com</td>\n",
       "    </tr>\n",
       "  </tbody>\n",
       "</table>\n",
       "</div>"
      ],
      "text/plain": [
       "  first last              EMAIL\n",
       "1  jane  doe  JaneDoe@Gmail.com"
      ]
     },
     "execution_count": 73,
     "metadata": {},
     "output_type": "execute_result"
    }
   ],
   "source": [
    "#This is good for LOOK UP VALUES\n",
    "filt = (df[\"EMAIL\"] == \"JaneDoe@Gmail.com\")\n",
    "df[filt]"
   ]
  },
  {
   "cell_type": "code",
   "execution_count": 74,
   "id": "518bd4c6",
   "metadata": {},
   "outputs": [
    {
     "data": {
      "text/plain": [
       "1    doe\n",
       "Name: last, dtype: object"
      ]
     },
     "execution_count": 74,
     "metadata": {},
     "output_type": "execute_result"
    }
   ],
   "source": [
    "df[filt]['last']"
   ]
  },
  {
   "cell_type": "code",
   "execution_count": 75,
   "id": "c2e9ffed",
   "metadata": {},
   "outputs": [
    {
     "name": "stderr",
     "output_type": "stream",
     "text": [
      "<ipython-input-75-33e049b83e90>:2: SettingWithCopyWarning: \n",
      "A value is trying to be set on a copy of a slice from a DataFrame.\n",
      "Try using .loc[row_indexer,col_indexer] = value instead\n",
      "\n",
      "See the caveats in the documentation: https://pandas.pydata.org/pandas-docs/stable/user_guide/indexing.html#returning-a-view-versus-a-copy\n",
      "  df[filt]['last'] = \"Smith\"\n"
     ]
    }
   ],
   "source": [
    "# this is the ERROR\n",
    "df[filt]['last'] = \"Smith\""
   ]
  },
  {
   "cell_type": "code",
   "execution_count": 76,
   "id": "f677f1c1",
   "metadata": {},
   "outputs": [
    {
     "data": {
      "text/html": [
       "<div>\n",
       "<style scoped>\n",
       "    .dataframe tbody tr th:only-of-type {\n",
       "        vertical-align: middle;\n",
       "    }\n",
       "\n",
       "    .dataframe tbody tr th {\n",
       "        vertical-align: top;\n",
       "    }\n",
       "\n",
       "    .dataframe thead th {\n",
       "        text-align: right;\n",
       "    }\n",
       "</style>\n",
       "<table border=\"1\" class=\"dataframe\">\n",
       "  <thead>\n",
       "    <tr style=\"text-align: right;\">\n",
       "      <th></th>\n",
       "      <th>first</th>\n",
       "      <th>last</th>\n",
       "      <th>EMAIL</th>\n",
       "    </tr>\n",
       "  </thead>\n",
       "  <tbody>\n",
       "    <tr>\n",
       "      <th>0</th>\n",
       "      <td>corey</td>\n",
       "      <td>schafer</td>\n",
       "      <td>coreyschafer@gmail.com</td>\n",
       "    </tr>\n",
       "    <tr>\n",
       "      <th>1</th>\n",
       "      <td>jane</td>\n",
       "      <td>Smith</td>\n",
       "      <td>JaneDoe@Gmail.com</td>\n",
       "    </tr>\n",
       "    <tr>\n",
       "      <th>2</th>\n",
       "      <td>John</td>\n",
       "      <td>Doe</td>\n",
       "      <td>JohnSMith@gmail.com</td>\n",
       "    </tr>\n",
       "  </tbody>\n",
       "</table>\n",
       "</div>"
      ],
      "text/plain": [
       "   first     last                   EMAIL\n",
       "0  corey  schafer  coreyschafer@gmail.com\n",
       "1   jane    Smith       JaneDoe@Gmail.com\n",
       "2   John      Doe     JohnSMith@gmail.com"
      ]
     },
     "execution_count": 76,
     "metadata": {},
     "output_type": "execute_result"
    }
   ],
   "source": [
    "# FILTER CHANGE\n",
    "df.loc[filt,\"last\"] = 'Smith'\n",
    "df"
   ]
  },
  {
   "cell_type": "code",
   "execution_count": 77,
   "id": "016b810d",
   "metadata": {},
   "outputs": [],
   "source": [
    "#return all lowercase (CHANGE MULTIUPL ROWS)\n",
    "df[\"EMAIL\"] = df[\"EMAIL\"].str.lower()"
   ]
  },
  {
   "cell_type": "markdown",
   "id": "f09fe725",
   "metadata": {},
   "source": [
    "## More advance METHODS (4)  \n",
    "<code>.apply() .map() .applymap() .replace</code>"
   ]
  },
  {
   "cell_type": "markdown",
   "id": "32965a6a",
   "metadata": {},
   "source": [
    "### .apply()\n",
    "#### is used for calling a function on values. Can be used on a DataFrame , or a Series object"
   ]
  },
  {
   "cell_type": "markdown",
   "id": "2e976d5b",
   "metadata": {},
   "source": [
    "<code>.apply()</code>"
   ]
  },
  {
   "cell_type": "markdown",
   "id": "7ee82045",
   "metadata": {},
   "source": [
    "##### Using <code>.apply()</code> with series"
   ]
  },
  {
   "cell_type": "code",
   "execution_count": 78,
   "id": "12cca293",
   "metadata": {},
   "outputs": [
    {
     "data": {
      "text/plain": [
       "0    22\n",
       "1    17\n",
       "2    19\n",
       "Name: EMAIL, dtype: int64"
      ]
     },
     "execution_count": 78,
     "metadata": {},
     "output_type": "execute_result"
    }
   ],
   "source": [
    "# lets see the length of all our email addresses\n",
    "df[\"EMAIL\"].apply(len)"
   ]
  },
  {
   "cell_type": "code",
   "execution_count": 79,
   "id": "ca2bd30c",
   "metadata": {},
   "outputs": [],
   "source": [
    "# can use it to update\n",
    "def update_email(email):\n",
    "    return email.upper()"
   ]
  },
  {
   "cell_type": "code",
   "execution_count": 80,
   "id": "10fc874d",
   "metadata": {},
   "outputs": [
    {
     "data": {
      "text/plain": [
       "0    COREYSCHAFER@GMAIL.COM\n",
       "1         JANEDOE@GMAIL.COM\n",
       "2       JOHNSMITH@GMAIL.COM\n",
       "Name: EMAIL, dtype: object"
      ]
     },
     "execution_count": 80,
     "metadata": {},
     "output_type": "execute_result"
    }
   ],
   "source": [
    "df[\"EMAIL\"].apply(update_email)"
   ]
  },
  {
   "cell_type": "code",
   "execution_count": 81,
   "id": "3e9a097f",
   "metadata": {},
   "outputs": [
    {
     "data": {
      "text/html": [
       "<div>\n",
       "<style scoped>\n",
       "    .dataframe tbody tr th:only-of-type {\n",
       "        vertical-align: middle;\n",
       "    }\n",
       "\n",
       "    .dataframe tbody tr th {\n",
       "        vertical-align: top;\n",
       "    }\n",
       "\n",
       "    .dataframe thead th {\n",
       "        text-align: right;\n",
       "    }\n",
       "</style>\n",
       "<table border=\"1\" class=\"dataframe\">\n",
       "  <thead>\n",
       "    <tr style=\"text-align: right;\">\n",
       "      <th></th>\n",
       "      <th>first</th>\n",
       "      <th>last</th>\n",
       "      <th>EMAIL</th>\n",
       "    </tr>\n",
       "  </thead>\n",
       "  <tbody>\n",
       "    <tr>\n",
       "      <th>0</th>\n",
       "      <td>corey</td>\n",
       "      <td>schafer</td>\n",
       "      <td>COREYSCHAFER@GMAIL.COM</td>\n",
       "    </tr>\n",
       "    <tr>\n",
       "      <th>1</th>\n",
       "      <td>jane</td>\n",
       "      <td>Smith</td>\n",
       "      <td>JANEDOE@GMAIL.COM</td>\n",
       "    </tr>\n",
       "    <tr>\n",
       "      <th>2</th>\n",
       "      <td>John</td>\n",
       "      <td>Doe</td>\n",
       "      <td>JOHNSMITH@GMAIL.COM</td>\n",
       "    </tr>\n",
       "  </tbody>\n",
       "</table>\n",
       "</div>"
      ],
      "text/plain": [
       "   first     last                   EMAIL\n",
       "0  corey  schafer  COREYSCHAFER@GMAIL.COM\n",
       "1   jane    Smith       JANEDOE@GMAIL.COM\n",
       "2   John      Doe     JOHNSMITH@GMAIL.COM"
      ]
     },
     "execution_count": 81,
     "metadata": {},
     "output_type": "execute_result"
    }
   ],
   "source": [
    "# lets assign\n",
    "df[\"EMAIL\"] = df[\"EMAIL\"].apply(update_email)\n",
    "df"
   ]
  },
  {
   "cell_type": "code",
   "execution_count": 82,
   "id": "6d079615",
   "metadata": {},
   "outputs": [
    {
     "data": {
      "text/html": [
       "<div>\n",
       "<style scoped>\n",
       "    .dataframe tbody tr th:only-of-type {\n",
       "        vertical-align: middle;\n",
       "    }\n",
       "\n",
       "    .dataframe tbody tr th {\n",
       "        vertical-align: top;\n",
       "    }\n",
       "\n",
       "    .dataframe thead th {\n",
       "        text-align: right;\n",
       "    }\n",
       "</style>\n",
       "<table border=\"1\" class=\"dataframe\">\n",
       "  <thead>\n",
       "    <tr style=\"text-align: right;\">\n",
       "      <th></th>\n",
       "      <th>first</th>\n",
       "      <th>last</th>\n",
       "      <th>EMAIL</th>\n",
       "    </tr>\n",
       "  </thead>\n",
       "  <tbody>\n",
       "    <tr>\n",
       "      <th>0</th>\n",
       "      <td>corey</td>\n",
       "      <td>schafer</td>\n",
       "      <td>coreyschafer@gmail.com</td>\n",
       "    </tr>\n",
       "    <tr>\n",
       "      <th>1</th>\n",
       "      <td>jane</td>\n",
       "      <td>Smith</td>\n",
       "      <td>janedoe@gmail.com</td>\n",
       "    </tr>\n",
       "    <tr>\n",
       "      <th>2</th>\n",
       "      <td>John</td>\n",
       "      <td>Doe</td>\n",
       "      <td>johnsmith@gmail.com</td>\n",
       "    </tr>\n",
       "  </tbody>\n",
       "</table>\n",
       "</div>"
      ],
      "text/plain": [
       "   first     last                   EMAIL\n",
       "0  corey  schafer  coreyschafer@gmail.com\n",
       "1   jane    Smith       janedoe@gmail.com\n",
       "2   John      Doe     johnsmith@gmail.com"
      ]
     },
     "execution_count": 82,
     "metadata": {},
     "output_type": "execute_result"
    }
   ],
   "source": [
    "# using LAMDA. Back to lower\n",
    "df[\"EMAIL\"] = df[\"EMAIL\"].apply(lambda to_lower: to_lower.lower())\n",
    "df"
   ]
  },
  {
   "cell_type": "markdown",
   "id": "8b7d81bd",
   "metadata": {},
   "source": [
    "#### Using <code>.apply()</code> with dataframes"
   ]
  },
  {
   "cell_type": "code",
   "execution_count": 83,
   "id": "eedcbcbf",
   "metadata": {},
   "outputs": [
    {
     "data": {
      "text/plain": [
       "0    22\n",
       "1    17\n",
       "2    19\n",
       "Name: EMAIL, dtype: int64"
      ]
     },
     "execution_count": 83,
     "metadata": {},
     "output_type": "execute_result"
    }
   ],
   "source": [
    "#series\n",
    "df[\"EMAIL\"].apply(len)"
   ]
  },
  {
   "cell_type": "code",
   "execution_count": 84,
   "id": "3dc4da05",
   "metadata": {},
   "outputs": [
    {
     "data": {
      "text/plain": [
       "first    3\n",
       "last     3\n",
       "EMAIL    3\n",
       "dtype: int64"
      ]
     },
     "execution_count": 84,
     "metadata": {},
     "output_type": "execute_result"
    }
   ],
   "source": [
    "#dataframe\n",
    "df.apply(len)"
   ]
  },
  {
   "cell_type": "code",
   "execution_count": 85,
   "id": "4b40cec6",
   "metadata": {},
   "outputs": [],
   "source": [
    "df.rename(columns={\"EMAIL\":\"email\"}, inplace = True)"
   ]
  },
  {
   "cell_type": "code",
   "execution_count": 86,
   "id": "51be082b",
   "metadata": {},
   "outputs": [
    {
     "data": {
      "text/html": [
       "<div>\n",
       "<style scoped>\n",
       "    .dataframe tbody tr th:only-of-type {\n",
       "        vertical-align: middle;\n",
       "    }\n",
       "\n",
       "    .dataframe tbody tr th {\n",
       "        vertical-align: top;\n",
       "    }\n",
       "\n",
       "    .dataframe thead th {\n",
       "        text-align: right;\n",
       "    }\n",
       "</style>\n",
       "<table border=\"1\" class=\"dataframe\">\n",
       "  <thead>\n",
       "    <tr style=\"text-align: right;\">\n",
       "      <th></th>\n",
       "      <th>first</th>\n",
       "      <th>last</th>\n",
       "      <th>email</th>\n",
       "    </tr>\n",
       "  </thead>\n",
       "  <tbody>\n",
       "    <tr>\n",
       "      <th>0</th>\n",
       "      <td>corey</td>\n",
       "      <td>schafer</td>\n",
       "      <td>coreyschafer@gmail.com</td>\n",
       "    </tr>\n",
       "    <tr>\n",
       "      <th>1</th>\n",
       "      <td>jane</td>\n",
       "      <td>Smith</td>\n",
       "      <td>janedoe@gmail.com</td>\n",
       "    </tr>\n",
       "    <tr>\n",
       "      <th>2</th>\n",
       "      <td>John</td>\n",
       "      <td>Doe</td>\n",
       "      <td>johnsmith@gmail.com</td>\n",
       "    </tr>\n",
       "  </tbody>\n",
       "</table>\n",
       "</div>"
      ],
      "text/plain": [
       "   first     last                   email\n",
       "0  corey  schafer  coreyschafer@gmail.com\n",
       "1   jane    Smith       janedoe@gmail.com\n",
       "2   John      Doe     johnsmith@gmail.com"
      ]
     },
     "execution_count": 86,
     "metadata": {},
     "output_type": "execute_result"
    }
   ],
   "source": [
    "df"
   ]
  },
  {
   "cell_type": "code",
   "execution_count": 87,
   "id": "2239f8a3",
   "metadata": {},
   "outputs": [
    {
     "data": {
      "text/plain": [
       "3"
      ]
     },
     "execution_count": 87,
     "metadata": {},
     "output_type": "execute_result"
    }
   ],
   "source": [
    "len(df[\"email\"])"
   ]
  },
  {
   "cell_type": "markdown",
   "id": "a13b75a1",
   "metadata": {},
   "source": [
    "#### Using .apply for rows and columns"
   ]
  },
  {
   "cell_type": "code",
   "execution_count": 88,
   "id": "52f12346",
   "metadata": {},
   "outputs": [
    {
     "data": {
      "text/plain": [
       "0    3\n",
       "1    3\n",
       "2    3\n",
       "dtype: int64"
      ]
     },
     "execution_count": 88,
     "metadata": {},
     "output_type": "execute_result"
    }
   ],
   "source": [
    "# more .apply\n",
    "df.apply(len, axis=\"columns\")"
   ]
  },
  {
   "cell_type": "code",
   "execution_count": 89,
   "id": "91b73d5f",
   "metadata": {},
   "outputs": [
    {
     "data": {
      "text/plain": [
       "first                      John\n",
       "last                        Doe\n",
       "email    coreyschafer@gmail.com\n",
       "dtype: object"
      ]
     },
     "execution_count": 89,
     "metadata": {},
     "output_type": "execute_result"
    }
   ],
   "source": [
    "df.apply(pd.Series.min)"
   ]
  },
  {
   "cell_type": "code",
   "execution_count": 90,
   "id": "b0a47b86",
   "metadata": {},
   "outputs": [
    {
     "data": {
      "text/plain": [
       "first                   jane\n",
       "last                 schafer\n",
       "email    johnsmith@gmail.com\n",
       "dtype: object"
      ]
     },
     "execution_count": 90,
     "metadata": {},
     "output_type": "execute_result"
    }
   ],
   "source": [
    "df.apply(pd.Series.max)"
   ]
  },
  {
   "cell_type": "code",
   "execution_count": 91,
   "id": "c9484c28",
   "metadata": {},
   "outputs": [
    {
     "data": {
      "text/plain": [
       "first                      John\n",
       "last                        Doe\n",
       "email    coreyschafer@gmail.com\n",
       "dtype: object"
      ]
     },
     "execution_count": 91,
     "metadata": {},
     "output_type": "execute_result"
    }
   ],
   "source": [
    "df.apply(lambda x: x.min())"
   ]
  },
  {
   "cell_type": "code",
   "execution_count": 92,
   "id": "4aedaf5c",
   "metadata": {},
   "outputs": [
    {
     "data": {
      "text/plain": [
       "first                   jane\n",
       "last                 schafer\n",
       "email    johnsmith@gmail.com\n",
       "dtype: object"
      ]
     },
     "execution_count": 92,
     "metadata": {},
     "output_type": "execute_result"
    }
   ],
   "source": [
    "df.apply(lambda x: x.max())"
   ]
  },
  {
   "cell_type": "markdown",
   "id": "04bcf0c5",
   "metadata": {},
   "source": [
    "### .applymap applies it on a individual value in the dataframe"
   ]
  },
  {
   "cell_type": "code",
   "execution_count": 93,
   "id": "16382210",
   "metadata": {},
   "outputs": [
    {
     "data": {
      "text/html": [
       "<div>\n",
       "<style scoped>\n",
       "    .dataframe tbody tr th:only-of-type {\n",
       "        vertical-align: middle;\n",
       "    }\n",
       "\n",
       "    .dataframe tbody tr th {\n",
       "        vertical-align: top;\n",
       "    }\n",
       "\n",
       "    .dataframe thead th {\n",
       "        text-align: right;\n",
       "    }\n",
       "</style>\n",
       "<table border=\"1\" class=\"dataframe\">\n",
       "  <thead>\n",
       "    <tr style=\"text-align: right;\">\n",
       "      <th></th>\n",
       "      <th>first</th>\n",
       "      <th>last</th>\n",
       "      <th>email</th>\n",
       "    </tr>\n",
       "  </thead>\n",
       "  <tbody>\n",
       "    <tr>\n",
       "      <th>0</th>\n",
       "      <td>5</td>\n",
       "      <td>7</td>\n",
       "      <td>22</td>\n",
       "    </tr>\n",
       "    <tr>\n",
       "      <th>1</th>\n",
       "      <td>4</td>\n",
       "      <td>5</td>\n",
       "      <td>17</td>\n",
       "    </tr>\n",
       "    <tr>\n",
       "      <th>2</th>\n",
       "      <td>4</td>\n",
       "      <td>3</td>\n",
       "      <td>19</td>\n",
       "    </tr>\n",
       "  </tbody>\n",
       "</table>\n",
       "</div>"
      ],
      "text/plain": [
       "   first  last  email\n",
       "0      5     7     22\n",
       "1      4     5     17\n",
       "2      4     3     19"
      ]
     },
     "execution_count": 93,
     "metadata": {},
     "output_type": "execute_result"
    }
   ],
   "source": [
    "df.applymap(len)"
   ]
  },
  {
   "cell_type": "code",
   "execution_count": 94,
   "id": "dcfdaa4e",
   "metadata": {},
   "outputs": [
    {
     "data": {
      "text/html": [
       "<div>\n",
       "<style scoped>\n",
       "    .dataframe tbody tr th:only-of-type {\n",
       "        vertical-align: middle;\n",
       "    }\n",
       "\n",
       "    .dataframe tbody tr th {\n",
       "        vertical-align: top;\n",
       "    }\n",
       "\n",
       "    .dataframe thead th {\n",
       "        text-align: right;\n",
       "    }\n",
       "</style>\n",
       "<table border=\"1\" class=\"dataframe\">\n",
       "  <thead>\n",
       "    <tr style=\"text-align: right;\">\n",
       "      <th></th>\n",
       "      <th>first</th>\n",
       "      <th>last</th>\n",
       "      <th>email</th>\n",
       "    </tr>\n",
       "  </thead>\n",
       "  <tbody>\n",
       "    <tr>\n",
       "      <th>0</th>\n",
       "      <td>corey</td>\n",
       "      <td>schafer</td>\n",
       "      <td>coreyschafer@gmail.com</td>\n",
       "    </tr>\n",
       "    <tr>\n",
       "      <th>1</th>\n",
       "      <td>jane</td>\n",
       "      <td>smith</td>\n",
       "      <td>janedoe@gmail.com</td>\n",
       "    </tr>\n",
       "    <tr>\n",
       "      <th>2</th>\n",
       "      <td>john</td>\n",
       "      <td>doe</td>\n",
       "      <td>johnsmith@gmail.com</td>\n",
       "    </tr>\n",
       "  </tbody>\n",
       "</table>\n",
       "</div>"
      ],
      "text/plain": [
       "   first     last                   email\n",
       "0  corey  schafer  coreyschafer@gmail.com\n",
       "1   jane    smith       janedoe@gmail.com\n",
       "2   john      doe     johnsmith@gmail.com"
      ]
     },
     "execution_count": 94,
     "metadata": {},
     "output_type": "execute_result"
    }
   ],
   "source": [
    "#lets get all lowercase\n",
    "df.applymap(str.lower)"
   ]
  },
  {
   "cell_type": "markdown",
   "id": "62834746",
   "metadata": {},
   "source": [
    "#### <code>.map</code> ONLY WORKS IN A SERIES. SUPBSITTE ONE VALUE FOR ANOTHER"
   ]
  },
  {
   "cell_type": "code",
   "execution_count": 95,
   "id": "3c8900ea",
   "metadata": {},
   "outputs": [],
   "source": [
    "df['first'] = df['first'].map({\"corey\":\"chris\", \"jane\": \"mary\"})"
   ]
  },
  {
   "cell_type": "code",
   "execution_count": 96,
   "id": "225613d2",
   "metadata": {},
   "outputs": [
    {
     "data": {
      "text/plain": [
       "0    chris\n",
       "1     mary\n",
       "2      NaN\n",
       "Name: first, dtype: object"
      ]
     },
     "execution_count": 96,
     "metadata": {},
     "output_type": "execute_result"
    }
   ],
   "source": [
    "df['first'].replace({\"corey\":\"chris\", \"jane\": \"mary\"})"
   ]
  },
  {
   "cell_type": "code",
   "execution_count": 97,
   "id": "6ea0be7e",
   "metadata": {},
   "outputs": [
    {
     "data": {
      "text/html": [
       "<div>\n",
       "<style scoped>\n",
       "    .dataframe tbody tr th:only-of-type {\n",
       "        vertical-align: middle;\n",
       "    }\n",
       "\n",
       "    .dataframe tbody tr th {\n",
       "        vertical-align: top;\n",
       "    }\n",
       "\n",
       "    .dataframe thead th {\n",
       "        text-align: right;\n",
       "    }\n",
       "</style>\n",
       "<table border=\"1\" class=\"dataframe\">\n",
       "  <thead>\n",
       "    <tr style=\"text-align: right;\">\n",
       "      <th></th>\n",
       "      <th>first</th>\n",
       "      <th>last</th>\n",
       "      <th>email</th>\n",
       "    </tr>\n",
       "  </thead>\n",
       "  <tbody>\n",
       "    <tr>\n",
       "      <th>0</th>\n",
       "      <td>chris</td>\n",
       "      <td>schafer</td>\n",
       "      <td>coreyschafer@gmail.com</td>\n",
       "    </tr>\n",
       "    <tr>\n",
       "      <th>1</th>\n",
       "      <td>mary</td>\n",
       "      <td>Smith</td>\n",
       "      <td>janedoe@gmail.com</td>\n",
       "    </tr>\n",
       "    <tr>\n",
       "      <th>2</th>\n",
       "      <td>NaN</td>\n",
       "      <td>Doe</td>\n",
       "      <td>johnsmith@gmail.com</td>\n",
       "    </tr>\n",
       "  </tbody>\n",
       "</table>\n",
       "</div>"
      ],
      "text/plain": [
       "   first     last                   email\n",
       "0  chris  schafer  coreyschafer@gmail.com\n",
       "1   mary    Smith       janedoe@gmail.com\n",
       "2    NaN      Doe     johnsmith@gmail.com"
      ]
     },
     "execution_count": 97,
     "metadata": {},
     "output_type": "execute_result"
    }
   ],
   "source": [
    "# using map\n",
    "df"
   ]
  },
  {
   "cell_type": "code",
   "execution_count": 98,
   "id": "c00df77e",
   "metadata": {},
   "outputs": [],
   "source": [
    "large_df = pd.read_csv(\"Pokemon.csv\")\n",
    "pd.set_option('display.max_rows' , None)\n",
    "pd.set_option('display.max_columns', None)"
   ]
  },
  {
   "cell_type": "code",
   "execution_count": 99,
   "id": "47199d7b",
   "metadata": {},
   "outputs": [
    {
     "data": {
      "text/html": [
       "<div>\n",
       "<style scoped>\n",
       "    .dataframe tbody tr th:only-of-type {\n",
       "        vertical-align: middle;\n",
       "    }\n",
       "\n",
       "    .dataframe tbody tr th {\n",
       "        vertical-align: top;\n",
       "    }\n",
       "\n",
       "    .dataframe thead th {\n",
       "        text-align: right;\n",
       "    }\n",
       "</style>\n",
       "<table border=\"1\" class=\"dataframe\">\n",
       "  <thead>\n",
       "    <tr style=\"text-align: right;\">\n",
       "      <th></th>\n",
       "      <th>#</th>\n",
       "      <th>Name</th>\n",
       "      <th>Type 1</th>\n",
       "      <th>Type 2</th>\n",
       "      <th>Total</th>\n",
       "      <th>HP</th>\n",
       "      <th>Attack</th>\n",
       "      <th>Defense</th>\n",
       "      <th>Sp. Atk</th>\n",
       "      <th>Sp. Def</th>\n",
       "      <th>Speed</th>\n",
       "      <th>Generation</th>\n",
       "      <th>Legendary</th>\n",
       "    </tr>\n",
       "  </thead>\n",
       "  <tbody>\n",
       "    <tr>\n",
       "      <th>0</th>\n",
       "      <td>1</td>\n",
       "      <td>Bulbasaur</td>\n",
       "      <td>Grass</td>\n",
       "      <td>Poison</td>\n",
       "      <td>318</td>\n",
       "      <td>45</td>\n",
       "      <td>49</td>\n",
       "      <td>49</td>\n",
       "      <td>65</td>\n",
       "      <td>65</td>\n",
       "      <td>45</td>\n",
       "      <td>1</td>\n",
       "      <td>False</td>\n",
       "    </tr>\n",
       "    <tr>\n",
       "      <th>1</th>\n",
       "      <td>2</td>\n",
       "      <td>Ivysaur</td>\n",
       "      <td>Grass</td>\n",
       "      <td>Poison</td>\n",
       "      <td>405</td>\n",
       "      <td>60</td>\n",
       "      <td>62</td>\n",
       "      <td>63</td>\n",
       "      <td>80</td>\n",
       "      <td>80</td>\n",
       "      <td>60</td>\n",
       "      <td>1</td>\n",
       "      <td>False</td>\n",
       "    </tr>\n",
       "  </tbody>\n",
       "</table>\n",
       "</div>"
      ],
      "text/plain": [
       "   #       Name Type 1  Type 2  Total  HP  Attack  Defense  Sp. Atk  Sp. Def  \\\n",
       "0  1  Bulbasaur  Grass  Poison    318  45      49       49       65       65   \n",
       "1  2    Ivysaur  Grass  Poison    405  60      62       63       80       80   \n",
       "\n",
       "   Speed  Generation  Legendary  \n",
       "0     45           1      False  \n",
       "1     60           1      False  "
      ]
     },
     "execution_count": 99,
     "metadata": {},
     "output_type": "execute_result"
    }
   ],
   "source": [
    "large_df.head(2)"
   ]
  },
  {
   "cell_type": "code",
   "execution_count": 100,
   "id": "c60e6c06",
   "metadata": {},
   "outputs": [
    {
     "data": {
      "text/html": [
       "<div>\n",
       "<style scoped>\n",
       "    .dataframe tbody tr th:only-of-type {\n",
       "        vertical-align: middle;\n",
       "    }\n",
       "\n",
       "    .dataframe tbody tr th {\n",
       "        vertical-align: top;\n",
       "    }\n",
       "\n",
       "    .dataframe thead th {\n",
       "        text-align: right;\n",
       "    }\n",
       "</style>\n",
       "<table border=\"1\" class=\"dataframe\">\n",
       "  <thead>\n",
       "    <tr style=\"text-align: right;\">\n",
       "      <th></th>\n",
       "      <th>#</th>\n",
       "      <th>name</th>\n",
       "      <th>Type 1</th>\n",
       "      <th>Type 2</th>\n",
       "      <th>Total</th>\n",
       "      <th>HP</th>\n",
       "      <th>Attack</th>\n",
       "      <th>Defense</th>\n",
       "      <th>Sp. Atk</th>\n",
       "      <th>Sp. Def</th>\n",
       "      <th>Speed</th>\n",
       "      <th>Generation</th>\n",
       "      <th>Legendary</th>\n",
       "    </tr>\n",
       "  </thead>\n",
       "  <tbody>\n",
       "  </tbody>\n",
       "</table>\n",
       "</div>"
      ],
      "text/plain": [
       "Empty DataFrame\n",
       "Columns: [#, name, Type 1, Type 2, Total, HP, Attack, Defense, Sp. Atk, Sp. Def, Speed, Generation, Legendary]\n",
       "Index: []"
      ]
     },
     "execution_count": 100,
     "metadata": {},
     "output_type": "execute_result"
    }
   ],
   "source": [
    "large_df.rename(columns={\"Name\": \"name\"}, inplace = True)\n",
    "large_df.head(0)"
   ]
  },
  {
   "cell_type": "code",
   "execution_count": 101,
   "id": "4d4a00e3",
   "metadata": {},
   "outputs": [],
   "source": [
    "large_df.rename(columns={\"name\":\"Name\"}, inplace = True)"
   ]
  },
  {
   "cell_type": "code",
   "execution_count": 102,
   "id": "1fb32729",
   "metadata": {},
   "outputs": [
    {
     "data": {
      "text/plain": [
       "0       no\n",
       "1       no\n",
       "2       no\n",
       "3       no\n",
       "4       no\n",
       "5       no\n",
       "6       no\n",
       "7       no\n",
       "8       no\n",
       "9       no\n",
       "10      no\n",
       "11      no\n",
       "12      no\n",
       "13      no\n",
       "14      no\n",
       "15      no\n",
       "16      no\n",
       "17      no\n",
       "18      no\n",
       "19      no\n",
       "20      no\n",
       "21      no\n",
       "22      no\n",
       "23      no\n",
       "24      no\n",
       "25      no\n",
       "26      no\n",
       "27      no\n",
       "28      no\n",
       "29      no\n",
       "30      no\n",
       "31      no\n",
       "32      no\n",
       "33      no\n",
       "34      no\n",
       "35      no\n",
       "36      no\n",
       "37      no\n",
       "38      no\n",
       "39      no\n",
       "40      no\n",
       "41      no\n",
       "42      no\n",
       "43      no\n",
       "44      no\n",
       "45      no\n",
       "46      no\n",
       "47      no\n",
       "48      no\n",
       "49      no\n",
       "50      no\n",
       "51      no\n",
       "52      no\n",
       "53      no\n",
       "54      no\n",
       "55      no\n",
       "56      no\n",
       "57      no\n",
       "58      no\n",
       "59      no\n",
       "60      no\n",
       "61      no\n",
       "62      no\n",
       "63      no\n",
       "64      no\n",
       "65      no\n",
       "66      no\n",
       "67      no\n",
       "68      no\n",
       "69      no\n",
       "70      no\n",
       "71      no\n",
       "72      no\n",
       "73      no\n",
       "74      no\n",
       "75      no\n",
       "76      no\n",
       "77      no\n",
       "78      no\n",
       "79      no\n",
       "80      no\n",
       "81      no\n",
       "82      no\n",
       "83      no\n",
       "84      no\n",
       "85      no\n",
       "86      no\n",
       "87      no\n",
       "88      no\n",
       "89      no\n",
       "90      no\n",
       "91      no\n",
       "92      no\n",
       "93      no\n",
       "94      no\n",
       "95      no\n",
       "96      no\n",
       "97      no\n",
       "98      no\n",
       "99      no\n",
       "100     no\n",
       "101     no\n",
       "102     no\n",
       "103     no\n",
       "104     no\n",
       "105     no\n",
       "106     no\n",
       "107     no\n",
       "108     no\n",
       "109     no\n",
       "110     no\n",
       "111     no\n",
       "112     no\n",
       "113     no\n",
       "114     no\n",
       "115     no\n",
       "116     no\n",
       "117     no\n",
       "118     no\n",
       "119     no\n",
       "120     no\n",
       "121     no\n",
       "122     no\n",
       "123     no\n",
       "124     no\n",
       "125     no\n",
       "126     no\n",
       "127     no\n",
       "128     no\n",
       "129     no\n",
       "130     no\n",
       "131     no\n",
       "132     no\n",
       "133     no\n",
       "134     no\n",
       "135     no\n",
       "136     no\n",
       "137     no\n",
       "138     no\n",
       "139     no\n",
       "140     no\n",
       "141     no\n",
       "142     no\n",
       "143     no\n",
       "144     no\n",
       "145     no\n",
       "146     no\n",
       "147     no\n",
       "148     no\n",
       "149     no\n",
       "150     no\n",
       "151     no\n",
       "152     no\n",
       "153     no\n",
       "154     no\n",
       "155     no\n",
       "156    Yes\n",
       "157    Yes\n",
       "158    Yes\n",
       "159     no\n",
       "160     no\n",
       "161     no\n",
       "162    Yes\n",
       "163    Yes\n",
       "164    Yes\n",
       "165     no\n",
       "166     no\n",
       "167     no\n",
       "168     no\n",
       "169     no\n",
       "170     no\n",
       "171     no\n",
       "172     no\n",
       "173     no\n",
       "174     no\n",
       "175     no\n",
       "176     no\n",
       "177     no\n",
       "178     no\n",
       "179     no\n",
       "180     no\n",
       "181     no\n",
       "182     no\n",
       "183     no\n",
       "184     no\n",
       "185     no\n",
       "186     no\n",
       "187     no\n",
       "188     no\n",
       "189     no\n",
       "190     no\n",
       "191     no\n",
       "192     no\n",
       "193     no\n",
       "194     no\n",
       "195     no\n",
       "196     no\n",
       "197     no\n",
       "198     no\n",
       "199     no\n",
       "200     no\n",
       "201     no\n",
       "202     no\n",
       "203     no\n",
       "204     no\n",
       "205     no\n",
       "206     no\n",
       "207     no\n",
       "208     no\n",
       "209     no\n",
       "210     no\n",
       "211     no\n",
       "212     no\n",
       "213     no\n",
       "214     no\n",
       "215     no\n",
       "216     no\n",
       "217     no\n",
       "218     no\n",
       "219     no\n",
       "220     no\n",
       "221     no\n",
       "222     no\n",
       "223     no\n",
       "224     no\n",
       "225     no\n",
       "226     no\n",
       "227     no\n",
       "228     no\n",
       "229     no\n",
       "230     no\n",
       "231     no\n",
       "232     no\n",
       "233     no\n",
       "234     no\n",
       "235     no\n",
       "236     no\n",
       "237     no\n",
       "238     no\n",
       "239     no\n",
       "240     no\n",
       "241     no\n",
       "242     no\n",
       "243     no\n",
       "244     no\n",
       "245     no\n",
       "246     no\n",
       "247     no\n",
       "248     no\n",
       "249     no\n",
       "250     no\n",
       "251     no\n",
       "252     no\n",
       "253     no\n",
       "254     no\n",
       "255     no\n",
       "256     no\n",
       "257     no\n",
       "258     no\n",
       "259     no\n",
       "260     no\n",
       "261     no\n",
       "262    Yes\n",
       "263    Yes\n",
       "264    Yes\n",
       "265     no\n",
       "266     no\n",
       "267     no\n",
       "268     no\n",
       "269    Yes\n",
       "270    Yes\n",
       "271     no\n",
       "272     no\n",
       "273     no\n",
       "274     no\n",
       "275     no\n",
       "276     no\n",
       "277     no\n",
       "278     no\n",
       "279     no\n",
       "280     no\n",
       "281     no\n",
       "282     no\n",
       "283     no\n",
       "284     no\n",
       "285     no\n",
       "286     no\n",
       "287     no\n",
       "288     no\n",
       "289     no\n",
       "290     no\n",
       "291     no\n",
       "292     no\n",
       "293     no\n",
       "294     no\n",
       "295     no\n",
       "296     no\n",
       "297     no\n",
       "298     no\n",
       "299     no\n",
       "300     no\n",
       "301     no\n",
       "302     no\n",
       "303     no\n",
       "304     no\n",
       "305     no\n",
       "306     no\n",
       "307     no\n",
       "308     no\n",
       "309     no\n",
       "310     no\n",
       "311     no\n",
       "312     no\n",
       "313     no\n",
       "314     no\n",
       "315     no\n",
       "316     no\n",
       "317     no\n",
       "318     no\n",
       "319     no\n",
       "320     no\n",
       "321     no\n",
       "322     no\n",
       "323     no\n",
       "324     no\n",
       "325     no\n",
       "326     no\n",
       "327     no\n",
       "328     no\n",
       "329     no\n",
       "330     no\n",
       "331     no\n",
       "332     no\n",
       "333     no\n",
       "334     no\n",
       "335     no\n",
       "336     no\n",
       "337     no\n",
       "338     no\n",
       "339     no\n",
       "340     no\n",
       "341     no\n",
       "342     no\n",
       "343     no\n",
       "344     no\n",
       "345     no\n",
       "346     no\n",
       "347     no\n",
       "348     no\n",
       "349     no\n",
       "350     no\n",
       "351     no\n",
       "352     no\n",
       "353     no\n",
       "354     no\n",
       "355     no\n",
       "356     no\n",
       "357     no\n",
       "358     no\n",
       "359     no\n",
       "360     no\n",
       "361     no\n",
       "362     no\n",
       "363     no\n",
       "364     no\n",
       "365     no\n",
       "366     no\n",
       "367     no\n",
       "368     no\n",
       "369     no\n",
       "370     no\n",
       "371     no\n",
       "372     no\n",
       "373     no\n",
       "374     no\n",
       "375     no\n",
       "376     no\n",
       "377     no\n",
       "378     no\n",
       "379     no\n",
       "380     no\n",
       "381     no\n",
       "382     no\n",
       "383     no\n",
       "384     no\n",
       "385     no\n",
       "386     no\n",
       "387     no\n",
       "388     no\n",
       "389     no\n",
       "390     no\n",
       "391     no\n",
       "392     no\n",
       "393     no\n",
       "394     no\n",
       "395     no\n",
       "396     no\n",
       "397     no\n",
       "398     no\n",
       "399     no\n",
       "400     no\n",
       "401     no\n",
       "402     no\n",
       "403     no\n",
       "404     no\n",
       "405     no\n",
       "406     no\n",
       "407     no\n",
       "408     no\n",
       "409     no\n",
       "410     no\n",
       "411     no\n",
       "412     no\n",
       "413     no\n",
       "414    Yes\n",
       "415    Yes\n",
       "416    Yes\n",
       "417    Yes\n",
       "418    Yes\n",
       "419    Yes\n",
       "420    Yes\n",
       "421    Yes\n",
       "422    Yes\n",
       "423    Yes\n",
       "424    Yes\n",
       "425    Yes\n",
       "426    Yes\n",
       "427    Yes\n",
       "428    Yes\n",
       "429    Yes\n",
       "430    Yes\n",
       "431    Yes\n",
       "432     no\n",
       "433     no\n",
       "434     no\n",
       "435     no\n",
       "436     no\n",
       "437     no\n",
       "438     no\n",
       "439     no\n",
       "440     no\n",
       "441     no\n",
       "442     no\n",
       "443     no\n",
       "444     no\n",
       "445     no\n",
       "446     no\n",
       "447     no\n",
       "448     no\n",
       "449     no\n",
       "450     no\n",
       "451     no\n",
       "452     no\n",
       "453     no\n",
       "454     no\n",
       "455     no\n",
       "456     no\n",
       "457     no\n",
       "458     no\n",
       "459     no\n",
       "460     no\n",
       "461     no\n",
       "462     no\n",
       "463     no\n",
       "464     no\n",
       "465     no\n",
       "466     no\n",
       "467     no\n",
       "468     no\n",
       "469     no\n",
       "470     no\n",
       "471     no\n",
       "472     no\n",
       "473     no\n",
       "474     no\n",
       "475     no\n",
       "476     no\n",
       "477     no\n",
       "478     no\n",
       "479     no\n",
       "480     no\n",
       "481     no\n",
       "482     no\n",
       "483     no\n",
       "484     no\n",
       "485     no\n",
       "486     no\n",
       "487     no\n",
       "488     no\n",
       "489     no\n",
       "490     no\n",
       "491     no\n",
       "492     no\n",
       "493     no\n",
       "494     no\n",
       "495     no\n",
       "496     no\n",
       "497     no\n",
       "498     no\n",
       "499     no\n",
       "500     no\n",
       "501     no\n",
       "502     no\n",
       "503     no\n",
       "504     no\n",
       "505     no\n",
       "506     no\n",
       "507     no\n",
       "508     no\n",
       "509     no\n",
       "510     no\n",
       "511     no\n",
       "512     no\n",
       "513     no\n",
       "514     no\n",
       "515     no\n",
       "516     no\n",
       "517     no\n",
       "518     no\n",
       "519     no\n",
       "520     no\n",
       "521     no\n",
       "522     no\n",
       "523     no\n",
       "524     no\n",
       "525     no\n",
       "526     no\n",
       "527     no\n",
       "528     no\n",
       "529     no\n",
       "530     no\n",
       "531     no\n",
       "532     no\n",
       "533     no\n",
       "534     no\n",
       "535     no\n",
       "536     no\n",
       "537    Yes\n",
       "538    Yes\n",
       "539    Yes\n",
       "540    Yes\n",
       "541    Yes\n",
       "542    Yes\n",
       "543    Yes\n",
       "544    Yes\n",
       "545    Yes\n",
       "546     no\n",
       "547     no\n",
       "548     no\n",
       "549    Yes\n",
       "550    Yes\n",
       "551    Yes\n",
       "552    Yes\n",
       "553    Yes\n",
       "554     no\n",
       "555     no\n",
       "556     no\n",
       "557     no\n",
       "558     no\n",
       "559     no\n",
       "560     no\n",
       "561     no\n",
       "562     no\n",
       "563     no\n",
       "564     no\n",
       "565     no\n",
       "566     no\n",
       "567     no\n",
       "568     no\n",
       "569     no\n",
       "570     no\n",
       "571     no\n",
       "572     no\n",
       "573     no\n",
       "574     no\n",
       "575     no\n",
       "576     no\n",
       "577     no\n",
       "578     no\n",
       "579     no\n",
       "580     no\n",
       "581     no\n",
       "582     no\n",
       "583     no\n",
       "584     no\n",
       "585     no\n",
       "586     no\n",
       "587     no\n",
       "588     no\n",
       "589     no\n",
       "590     no\n",
       "591     no\n",
       "592     no\n",
       "593     no\n",
       "594     no\n",
       "595     no\n",
       "596     no\n",
       "597     no\n",
       "598     no\n",
       "599     no\n",
       "600     no\n",
       "601     no\n",
       "602     no\n",
       "603     no\n",
       "604     no\n",
       "605     no\n",
       "606     no\n",
       "607     no\n",
       "608     no\n",
       "609     no\n",
       "610     no\n",
       "611     no\n",
       "612     no\n",
       "613     no\n",
       "614     no\n",
       "615     no\n",
       "616     no\n",
       "617     no\n",
       "618     no\n",
       "619     no\n",
       "620     no\n",
       "621     no\n",
       "622     no\n",
       "623     no\n",
       "624     no\n",
       "625     no\n",
       "626     no\n",
       "627     no\n",
       "628     no\n",
       "629     no\n",
       "630     no\n",
       "631     no\n",
       "632     no\n",
       "633     no\n",
       "634     no\n",
       "635     no\n",
       "636     no\n",
       "637     no\n",
       "638     no\n",
       "639     no\n",
       "640     no\n",
       "641     no\n",
       "642     no\n",
       "643     no\n",
       "644     no\n",
       "645     no\n",
       "646     no\n",
       "647     no\n",
       "648     no\n",
       "649     no\n",
       "650     no\n",
       "651     no\n",
       "652     no\n",
       "653     no\n",
       "654     no\n",
       "655     no\n",
       "656     no\n",
       "657     no\n",
       "658     no\n",
       "659     no\n",
       "660     no\n",
       "661     no\n",
       "662     no\n",
       "663     no\n",
       "664     no\n",
       "665     no\n",
       "666     no\n",
       "667     no\n",
       "668     no\n",
       "669     no\n",
       "670     no\n",
       "671     no\n",
       "672     no\n",
       "673     no\n",
       "674     no\n",
       "675     no\n",
       "676     no\n",
       "677     no\n",
       "678     no\n",
       "679     no\n",
       "680     no\n",
       "681     no\n",
       "682     no\n",
       "683     no\n",
       "684     no\n",
       "685     no\n",
       "686     no\n",
       "687     no\n",
       "688     no\n",
       "689     no\n",
       "690     no\n",
       "691     no\n",
       "692     no\n",
       "693     no\n",
       "694     no\n",
       "695     no\n",
       "696     no\n",
       "697     no\n",
       "698     no\n",
       "699    Yes\n",
       "700    Yes\n",
       "701    Yes\n",
       "702    Yes\n",
       "703    Yes\n",
       "704    Yes\n",
       "705    Yes\n",
       "706    Yes\n",
       "707    Yes\n",
       "708    Yes\n",
       "709    Yes\n",
       "710    Yes\n",
       "711    Yes\n",
       "712    Yes\n",
       "713     no\n",
       "714     no\n",
       "715     no\n",
       "716     no\n",
       "717     no\n",
       "718     no\n",
       "719     no\n",
       "720     no\n",
       "721     no\n",
       "722     no\n",
       "723     no\n",
       "724     no\n",
       "725     no\n",
       "726     no\n",
       "727     no\n",
       "728     no\n",
       "729     no\n",
       "730     no\n",
       "731     no\n",
       "732     no\n",
       "733     no\n",
       "734     no\n",
       "735     no\n",
       "736     no\n",
       "737     no\n",
       "738     no\n",
       "739     no\n",
       "740     no\n",
       "741     no\n",
       "742     no\n",
       "743     no\n",
       "744     no\n",
       "745     no\n",
       "746     no\n",
       "747     no\n",
       "748     no\n",
       "749     no\n",
       "750     no\n",
       "751     no\n",
       "752     no\n",
       "753     no\n",
       "754     no\n",
       "755     no\n",
       "756     no\n",
       "757     no\n",
       "758     no\n",
       "759     no\n",
       "760     no\n",
       "761     no\n",
       "762     no\n",
       "763     no\n",
       "764     no\n",
       "765     no\n",
       "766     no\n",
       "767     no\n",
       "768     no\n",
       "769     no\n",
       "770     no\n",
       "771     no\n",
       "772     no\n",
       "773     no\n",
       "774     no\n",
       "775     no\n",
       "776     no\n",
       "777     no\n",
       "778     no\n",
       "779     no\n",
       "780     no\n",
       "781     no\n",
       "782     no\n",
       "783     no\n",
       "784     no\n",
       "785     no\n",
       "786     no\n",
       "787     no\n",
       "788     no\n",
       "789     no\n",
       "790     no\n",
       "791     no\n",
       "792    Yes\n",
       "793    Yes\n",
       "794    Yes\n",
       "795    Yes\n",
       "796    Yes\n",
       "797    Yes\n",
       "798    Yes\n",
       "799    Yes\n",
       "Name: Legendary, dtype: object"
      ]
     },
     "execution_count": 102,
     "metadata": {},
     "output_type": "execute_result"
    }
   ],
   "source": [
    "large_df[\"Legendary\"].map({False: \"no\", True: \"Yes\"})"
   ]
  },
  {
   "cell_type": "code",
   "execution_count": null,
   "id": "caf34c8d",
   "metadata": {},
   "outputs": [],
   "source": []
  },
  {
   "cell_type": "code",
   "execution_count": null,
   "id": "d0370f6c",
   "metadata": {},
   "outputs": [],
   "source": []
  },
  {
   "cell_type": "code",
   "execution_count": null,
   "id": "adbcab57",
   "metadata": {},
   "outputs": [],
   "source": []
  }
 ],
 "metadata": {
  "kernelspec": {
   "display_name": "Python 3",
   "language": "python",
   "name": "python3"
  },
  "language_info": {
   "codemirror_mode": {
    "name": "ipython",
    "version": 3
   },
   "file_extension": ".py",
   "mimetype": "text/x-python",
   "name": "python",
   "nbconvert_exporter": "python",
   "pygments_lexer": "ipython3",
   "version": "3.8.8"
  }
 },
 "nbformat": 4,
 "nbformat_minor": 5
}
